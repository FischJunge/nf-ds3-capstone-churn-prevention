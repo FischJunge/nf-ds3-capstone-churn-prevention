{
 "cells": [
  {
   "cell_type": "markdown",
   "metadata": {},
   "source": [
    "# Load data & Setup"
   ]
  },
  {
   "cell_type": "markdown",
   "metadata": {},
   "source": [
    "## Imports"
   ]
  },
  {
   "cell_type": "code",
   "execution_count": 3,
   "metadata": {},
   "outputs": [],
   "source": [
    "# data analysis and wrangling\n",
    "import pandas as pd\n",
    "import numpy as np\n",
    "import math\n",
    "\n",
    "# own modules\n",
    "import eda_methods as eda\n",
    "\n",
    "# visualization\n",
    "import seaborn as sns\n",
    "sns.set(style=\"white\")  \n",
    "import matplotlib\n",
    "import matplotlib.pyplot as plt\n",
    "%matplotlib inline\n",
    "plt.style.use('ggplot')\n",
    "from pandas.plotting import scatter_matrix\n",
    "\n",
    "# warnings handler\n",
    "import warnings\n",
    "warnings.filterwarnings(\"ignore\")\n",
    "\n",
    "# Machine Learning Libraries\n",
    "from sklearn.metrics import confusion_matrix, classification_report\n",
    "from sklearn.neighbors import KNeighborsClassifier\n",
    "from sklearn.metrics import fbeta_score, accuracy_score, f1_score, recall_score, precision_score\n",
    "from sklearn.linear_model import LogisticRegression\n",
    "from sklearn.ensemble import RandomForestClassifier\n",
    "from sklearn.svm import SVC, LinearSVC\n",
    "from sklearn.ensemble import AdaBoostClassifier\n",
    "from sklearn.tree import DecisionTreeClassifier\n",
    "from sklearn.linear_model import LogisticRegression\n",
    "from xgboost import XGBClassifier\n",
    "from sklearn.model_selection import GridSearchCV, RandomizedSearchCV\n",
    "from sklearn.metrics import make_scorer \n",
    "from sklearn.model_selection import KFold\n",
    "from sklearn.metrics import roc_curve\n",
    "from sklearn.metrics import roc_auc_score\n",
    "from sklearn.impute import SimpleImputer\n",
    "\n",
    "#Pipeline\n",
    "from sklearn.model_selection import train_test_split, cross_val_predict\n",
    "from sklearn.pipeline import Pipeline\n",
    "from sklearn.preprocessing import StandardScaler, OneHotEncoder, MinMaxScaler\n",
    "from sklearn.compose import ColumnTransformer\n",
    "\n",
    "# Imbalanced Learn\n",
    "from imblearn.over_sampling import RandomOverSampler\n",
    "from imblearn.under_sampling import RandomUnderSampler\n",
    "\n",
    "# random state\n",
    "random_state = 100\n",
    "\n",
    "# Variables for plot sizes\n",
    "matplotlib.rc('font', size=16)          # controls default text sizes\n",
    "matplotlib.rc('axes', titlesize=14)     # fontsize of the axes title\n",
    "matplotlib.rc('axes', labelsize=14)    # fontsize of the x and y labels\n",
    "matplotlib.rc('xtick', labelsize=14)    # fontsize of the tick labels\n",
    "matplotlib.rc('ytick', labelsize=14)    # fontsize of the tick labels\n",
    "matplotlib.rc('legend', fontsize=14)    # legend fontsize\n",
    "matplotlib.rc('figure', titlesize=20)"
   ]
  },
  {
   "cell_type": "markdown",
   "metadata": {},
   "source": [
    "## Load Dataframe"
   ]
  },
  {
   "cell_type": "code",
   "execution_count": 3,
   "metadata": {},
   "outputs": [],
   "source": [
    "# new feature dataframe\n",
    "df_importance = pd.read_csv('data/df_clean_engineered_all.csv')\n",
    "\n",
    "y = df_importance['churn']\n",
    "df_importance = df_importance.drop(['churn','plz_3','abo_registrierung_min','nl_registrierung_min','ort'], axis = 1)\n",
    "\n",
    "df_importance = pd.get_dummies(df_importance, columns = ['kanal', 'objekt_name', 'aboform_name', 'zahlung_rhythmus_name','zahlung_weg_name', 'plz_1', 'plz_2', 'land_iso_code', 'anrede','titel'], drop_first = True)"
   ]
  },
  {
   "cell_type": "code",
   "execution_count": 4,
   "metadata": {},
   "outputs": [
    {
     "data": {
      "text/html": [
       "<div>\n",
       "<style scoped>\n",
       "    .dataframe tbody tr th:only-of-type {\n",
       "        vertical-align: middle;\n",
       "    }\n",
       "\n",
       "    .dataframe tbody tr th {\n",
       "        vertical-align: top;\n",
       "    }\n",
       "\n",
       "    .dataframe thead th {\n",
       "        text-align: right;\n",
       "    }\n",
       "</style>\n",
       "<table border=\"1\" class=\"dataframe\">\n",
       "  <thead>\n",
       "    <tr style=\"text-align: right;\">\n",
       "      <th></th>\n",
       "      <th>liefer_beginn_evt</th>\n",
       "      <th>lesedauer</th>\n",
       "      <th>rechnungsmonat</th>\n",
       "      <th>studentenabo</th>\n",
       "      <th>metropole</th>\n",
       "      <th>shop_kauf</th>\n",
       "      <th>unterbrechung</th>\n",
       "      <th>email_am_kunden</th>\n",
       "      <th>zon_che_opt_in</th>\n",
       "      <th>zon_sit_opt_in</th>\n",
       "      <th>...</th>\n",
       "      <th>plz_2_99</th>\n",
       "      <th>plz_2_xx</th>\n",
       "      <th>land_iso_code_CH</th>\n",
       "      <th>land_iso_code_DE</th>\n",
       "      <th>land_iso_code_andere</th>\n",
       "      <th>anrede_Frau</th>\n",
       "      <th>anrede_Herr</th>\n",
       "      <th>anrede_unbekannt</th>\n",
       "      <th>titel_kein Titel</th>\n",
       "      <th>titel_sonstiger Titel</th>\n",
       "    </tr>\n",
       "  </thead>\n",
       "  <tbody>\n",
       "    <tr>\n",
       "      <th>0</th>\n",
       "      <td>2013.833333</td>\n",
       "      <td>68</td>\n",
       "      <td>0</td>\n",
       "      <td>0</td>\n",
       "      <td>0</td>\n",
       "      <td>4</td>\n",
       "      <td>0</td>\n",
       "      <td>1.0</td>\n",
       "      <td>0</td>\n",
       "      <td>0</td>\n",
       "      <td>...</td>\n",
       "      <td>0</td>\n",
       "      <td>0</td>\n",
       "      <td>0</td>\n",
       "      <td>1</td>\n",
       "      <td>0</td>\n",
       "      <td>1</td>\n",
       "      <td>0</td>\n",
       "      <td>0</td>\n",
       "      <td>0</td>\n",
       "      <td>0</td>\n",
       "    </tr>\n",
       "    <tr>\n",
       "      <th>1</th>\n",
       "      <td>2013.833333</td>\n",
       "      <td>68</td>\n",
       "      <td>0</td>\n",
       "      <td>0</td>\n",
       "      <td>0</td>\n",
       "      <td>4</td>\n",
       "      <td>0</td>\n",
       "      <td>1.0</td>\n",
       "      <td>0</td>\n",
       "      <td>0</td>\n",
       "      <td>...</td>\n",
       "      <td>0</td>\n",
       "      <td>0</td>\n",
       "      <td>0</td>\n",
       "      <td>1</td>\n",
       "      <td>0</td>\n",
       "      <td>1</td>\n",
       "      <td>0</td>\n",
       "      <td>0</td>\n",
       "      <td>0</td>\n",
       "      <td>0</td>\n",
       "    </tr>\n",
       "    <tr>\n",
       "      <th>2</th>\n",
       "      <td>2013.833333</td>\n",
       "      <td>68</td>\n",
       "      <td>0</td>\n",
       "      <td>0</td>\n",
       "      <td>0</td>\n",
       "      <td>4</td>\n",
       "      <td>0</td>\n",
       "      <td>1.0</td>\n",
       "      <td>0</td>\n",
       "      <td>0</td>\n",
       "      <td>...</td>\n",
       "      <td>0</td>\n",
       "      <td>0</td>\n",
       "      <td>0</td>\n",
       "      <td>1</td>\n",
       "      <td>0</td>\n",
       "      <td>1</td>\n",
       "      <td>0</td>\n",
       "      <td>0</td>\n",
       "      <td>0</td>\n",
       "      <td>0</td>\n",
       "    </tr>\n",
       "    <tr>\n",
       "      <th>3</th>\n",
       "      <td>2013.833333</td>\n",
       "      <td>72</td>\n",
       "      <td>0</td>\n",
       "      <td>0</td>\n",
       "      <td>0</td>\n",
       "      <td>0</td>\n",
       "      <td>0</td>\n",
       "      <td>1.0</td>\n",
       "      <td>0</td>\n",
       "      <td>0</td>\n",
       "      <td>...</td>\n",
       "      <td>0</td>\n",
       "      <td>0</td>\n",
       "      <td>0</td>\n",
       "      <td>1</td>\n",
       "      <td>0</td>\n",
       "      <td>0</td>\n",
       "      <td>1</td>\n",
       "      <td>0</td>\n",
       "      <td>1</td>\n",
       "      <td>0</td>\n",
       "    </tr>\n",
       "    <tr>\n",
       "      <th>4</th>\n",
       "      <td>2013.750000</td>\n",
       "      <td>70</td>\n",
       "      <td>0</td>\n",
       "      <td>0</td>\n",
       "      <td>0</td>\n",
       "      <td>0</td>\n",
       "      <td>0</td>\n",
       "      <td>1.0</td>\n",
       "      <td>0</td>\n",
       "      <td>0</td>\n",
       "      <td>...</td>\n",
       "      <td>0</td>\n",
       "      <td>1</td>\n",
       "      <td>0</td>\n",
       "      <td>0</td>\n",
       "      <td>1</td>\n",
       "      <td>1</td>\n",
       "      <td>0</td>\n",
       "      <td>0</td>\n",
       "      <td>1</td>\n",
       "      <td>0</td>\n",
       "    </tr>\n",
       "  </tbody>\n",
       "</table>\n",
       "<p>5 rows × 307 columns</p>\n",
       "</div>"
      ],
      "text/plain": [
       "   liefer_beginn_evt  lesedauer  rechnungsmonat  studentenabo  metropole  \\\n",
       "0        2013.833333         68               0             0          0   \n",
       "1        2013.833333         68               0             0          0   \n",
       "2        2013.833333         68               0             0          0   \n",
       "3        2013.833333         72               0             0          0   \n",
       "4        2013.750000         70               0             0          0   \n",
       "\n",
       "   shop_kauf  unterbrechung  email_am_kunden  zon_che_opt_in  zon_sit_opt_in  \\\n",
       "0          4              0              1.0               0               0   \n",
       "1          4              0              1.0               0               0   \n",
       "2          4              0              1.0               0               0   \n",
       "3          0              0              1.0               0               0   \n",
       "4          0              0              1.0               0               0   \n",
       "\n",
       "   ...  plz_2_99  plz_2_xx  land_iso_code_CH  land_iso_code_DE  \\\n",
       "0  ...         0         0                 0                 1   \n",
       "1  ...         0         0                 0                 1   \n",
       "2  ...         0         0                 0                 1   \n",
       "3  ...         0         0                 0                 1   \n",
       "4  ...         0         1                 0                 0   \n",
       "\n",
       "   land_iso_code_andere  anrede_Frau  anrede_Herr  anrede_unbekannt  \\\n",
       "0                     0            1            0                 0   \n",
       "1                     0            1            0                 0   \n",
       "2                     0            1            0                 0   \n",
       "3                     0            0            1                 0   \n",
       "4                     1            1            0                 0   \n",
       "\n",
       "   titel_kein Titel  titel_sonstiger Titel  \n",
       "0                 0                      0  \n",
       "1                 0                      0  \n",
       "2                 0                      0  \n",
       "3                 1                      0  \n",
       "4                 1                      0  \n",
       "\n",
       "[5 rows x 307 columns]"
      ]
     },
     "execution_count": 4,
     "metadata": {},
     "output_type": "execute_result"
    }
   ],
   "source": [
    "df_importance.head(5)"
   ]
  },
  {
   "cell_type": "markdown",
   "metadata": {},
   "source": [
    "## Results Dictionary"
   ]
  },
  {
   "cell_type": "code",
   "execution_count": 9,
   "metadata": {},
   "outputs": [],
   "source": [
    "def train_predict(modelname, y_train, y_test, predictions_train, predictions_test): \n",
    "    '''\n",
    "    inputs:\n",
    "       - learner: the learning algorithm to be trained and predicted on\n",
    "       - \n",
    "       - y_train: income training set\n",
    "       -\n",
    "       - y_test: income testing set\n",
    "    '''\n",
    "    \n",
    "    results = {}\n",
    "    \n",
    "    # model name \n",
    "    results['model'] = modelname\n",
    "    \n",
    "    # accuracy\n",
    "    results['acc_train'] = accuracy_score(y_train,predictions_train)\n",
    "    results['acc_test'] = accuracy_score(y_test,predictions_test)\n",
    "    \n",
    "    # F-score\n",
    "    #results['f_train'] = fbeta_score(y_train,predictions_train,0.5)\n",
    "    #results['f_test'] = fbeta_score(y_test,predictions_test,0.5) \n",
    "    \n",
    "    # F1-score\n",
    "    results['f1_train'] = f1_score(y_train,predictions_train)\n",
    "    results['f1_test'] = f1_score(y_test,predictions_test) \n",
    "    \n",
    "    # Recall\n",
    "    results['recall_train'] = recall_score(y_train,predictions_train)\n",
    "    results['recall_test'] = recall_score(y_test,predictions_test) \n",
    "    \n",
    "    # Precision\n",
    "    results['precision_train'] = precision_score(y_train,predictions_train)\n",
    "    results['precision_test'] = precision_score(y_test,predictions_test) \n",
    "    \n",
    "    # Return the results\n",
    "    return results"
   ]
  },
  {
   "cell_type": "markdown",
   "metadata": {},
   "source": [
    "## Pipeline Setup"
   ]
  },
  {
   "cell_type": "code",
   "execution_count": 16,
   "metadata": {},
   "outputs": [],
   "source": [
    "def pipeline(X,y,balance=None):\n",
    "    \n",
    "    # devide features\n",
    "    categoric_features = list(X.columns[X.dtypes==object])\n",
    "\n",
    "    numeric_features = list(X.columns[X.dtypes != object])\n",
    "\n",
    "    # split train and test set\n",
    "    X_train, X_test, y_train, y_test = train_test_split(X, y, random_state=random_state,stratify=y)\n",
    "    \n",
    "    if balance == 'over':\n",
    "        # define oversampling strategy\n",
    "        print('Oversampling')\n",
    "        oversample = RandomOverSampler(sampling_strategy='minority')\n",
    "        X_train, y_train = oversample.fit_resample(X_train, y_train)\n",
    "\n",
    "    if balance == 'under':\n",
    "        print('Undersampling')\n",
    "        # define undersample strategy\n",
    "        undersample = RandomUnderSampler(sampling_strategy='majority')\n",
    "        X_train, y_train = undersample.fit_resample(X_train, y_train)\n",
    "       \n",
    "    models={\n",
    "        #'KNN' : KNeighborsClassifier(n_neighbors=5, metric='euclidean',n_jobs=-1),\n",
    "        #'SVC' : LinearSVC(),\n",
    "        #'logreg': LogisticRegression(random_state=random_state,n_jobs=-1), \n",
    "        #'decisiontree': DecisionTreeClassifier(random_state=random_state,max_depth=10),\n",
    "        'randomforest': RandomForestClassifier(random_state=random_state, n_jobs=-1,n_estimators=500),\n",
    "        #'randomforest':  RandomForestClassifier(n_jobs=-1,n_estimators=200, criterion='entropy',min_samples_split=2, min_samples_leaf=2, max_features='auto', max_depth=85,bootstrap=True,random_state=random_state),\n",
    "        #'XGBoost' : XGBClassifier(random_state=random_state, n_jobs=-1),\n",
    "        #'adaBoost' : AdaBoostClassifier(random_state=random_state)\n",
    "        }  \n",
    "    \n",
    "    # create preprocessors\n",
    "    numeric_transformer = Pipeline(steps=[\n",
    "        ('imputer_num', SimpleImputer(strategy='median')),\n",
    "        #('scaler', MinMaxScaler())\n",
    "        ('scaler', StandardScaler())\n",
    "    ])\n",
    "\n",
    "    categorical_transformer = Pipeline(steps=[\n",
    "            ('imputer_cat', SimpleImputer(strategy='constant', fill_value='missing')),\n",
    "            ('onehot', OneHotEncoder(handle_unknown='ignore'))\n",
    "    ])\n",
    "\n",
    "    preprocessor = ColumnTransformer(\n",
    "        transformers=[\n",
    "            ('num', numeric_transformer, numeric_features),\n",
    "            ('cat', categorical_transformer, categoric_features)\n",
    "        ])\n",
    "\n",
    "    model_results = pd.DataFrame(columns=['model','acc_train','acc_test','f1_train','f1_test','recall_train','recall_test','precision_train','precision_test'])\n",
    "    \n",
    "    # process pipeline for every model\n",
    "    for model in models.items():\n",
    "        \n",
    "        print(model[0])\n",
    "        pipe = Pipeline(steps=[('preprocessor', preprocessor), \n",
    "                               (model[0], model[1])\n",
    "                               ])\n",
    "\n",
    "        # fit model\n",
    "        pipe.fit(X_train, y_train)\n",
    "\n",
    "        #predict results\n",
    "        #y_train_pred = cross_val_predict(pipe, X_train, y_train, cv=5, n_jobs=-1)\n",
    "        y_train_pred = pipe.predict(X_train)\n",
    "        y_test_pred = pipe.predict(X_test)\n",
    "        \n",
    "        results = train_predict(model[0],y_train, y_test, y_train_pred, y_test_pred)\n",
    "        \n",
    "        model_results = pd.concat([model_results, pd.DataFrame(results,index=[0])])\n",
    "                                                \n",
    "        conf_mat = pd.crosstab(np.ravel(y_test), np.ravel(y_test_pred),\n",
    "                               colnames=[\"Predicted\"], rownames=[\"Actual\"])\n",
    "        sns.heatmap(conf_mat, annot=True, cmap=\"Blues\",fmt='d')\n",
    "        plt.show()\n",
    "        plt.close()\n",
    "                                                \n",
    "        # print results\n",
    "        #print(\"\\nResults on training data: \")\n",
    "        #print(classification_report(y_train, y_train_pred))\n",
    "        #print(\"\\nResults on test data:\")\n",
    "        #print(classification_report(y_test, y_test_pred))\n",
    "        print(\"\\nConfusion matrix on test\")\n",
    "        print(confusion_matrix(y_test, y_test_pred))\n",
    "        print(\"\\n\")\n",
    "    return model_results"
   ]
  },
  {
   "cell_type": "markdown",
   "metadata": {},
   "source": [
    "# Optimization - Top21 Features"
   ]
  },
  {
   "cell_type": "code",
   "execution_count": 120,
   "metadata": {},
   "outputs": [],
   "source": [
    "important_features_combined_dropping = ['zahlung_weg_name_Rechnung',\n",
    " 'nl_aktivitaet',\n",
    " 'liefer_beginn_evt',\n",
    " 'received_anzahl_6m',\n",
    " 'openedanzahl_6m',\n",
    " 'objekt_name_DIE ZEIT - CHRIST & WELT',\n",
    " 'clicked_anzahl_6m',\n",
    " 'zahlung_rhythmus_name_halbjährlich',\n",
    " 'studentenabo',\n",
    " 'rechnungsmonat',\n",
    " 'received_anzahl_bestandskunden_6m',\n",
    " 'received_anzahl_bestandskunden_3m',\n",
    " 'openrate_zeitbrief_3m',\n",
    " 'objekt_name_ZEIT Digital',\n",
    " 'nl_zeitshop',\n",
    " 'nl_opt_in_sum',\n",
    " 'cnt_umwandlungsstatus2_dkey',\n",
    " 'anrede_Frau',\n",
    " 'aboform_name_Negative Option',\n",
    " 'MONTH_DELTA_nl_min',\n",
    " 'MONTH_DELTA_abo_min']"
   ]
  },
  {
   "cell_type": "code",
   "execution_count": 121,
   "metadata": {},
   "outputs": [],
   "source": [
    "df_importance = df_importance[important_features_combined_dropping]"
   ]
  },
  {
   "cell_type": "code",
   "execution_count": 122,
   "metadata": {},
   "outputs": [
    {
     "data": {
      "text/plain": [
       "(184660, 21)"
      ]
     },
     "execution_count": 122,
     "metadata": {},
     "output_type": "execute_result"
    }
   ],
   "source": [
    "df_importance.shape"
   ]
  },
  {
   "cell_type": "code",
   "execution_count": 123,
   "metadata": {},
   "outputs": [],
   "source": [
    "X = df_importance"
   ]
  },
  {
   "cell_type": "markdown",
   "metadata": {},
   "source": [
    "## All Models"
   ]
  },
  {
   "cell_type": "code",
   "execution_count": 124,
   "metadata": {},
   "outputs": [
    {
     "name": "stdout",
     "output_type": "stream",
     "text": [
      "Undersampling\n",
      "logreg\n",
      "\n",
      "Confusion matrix on test\n",
      "[[21115 11055]\n",
      " [ 4515  9480]]\n",
      "\n",
      "\n",
      "decisiontree\n",
      "\n",
      "Confusion matrix on test\n",
      "[[23053  9117]\n",
      " [ 5124  8871]]\n",
      "\n",
      "\n",
      "randomforest\n",
      "\n",
      "Confusion matrix on test\n",
      "[[24511  7659]\n",
      " [ 3338 10657]]\n",
      "\n",
      "\n",
      "XGBoost\n",
      "\n",
      "Confusion matrix on test\n",
      "[[22431  9739]\n",
      " [ 4506  9489]]\n",
      "\n",
      "\n",
      "adaBoost\n",
      "\n",
      "Confusion matrix on test\n",
      "[[21330 10840]\n",
      " [ 4373  9622]]\n",
      "\n",
      "\n"
     ]
    }
   ],
   "source": [
    "feature_importance_combined_dropping = pipeline(X,y,balance='under')"
   ]
  },
  {
   "cell_type": "code",
   "execution_count": 290,
   "metadata": {},
   "outputs": [
    {
     "data": {
      "text/html": [
       "<div>\n",
       "<style scoped>\n",
       "    .dataframe tbody tr th:only-of-type {\n",
       "        vertical-align: middle;\n",
       "    }\n",
       "\n",
       "    .dataframe tbody tr th {\n",
       "        vertical-align: top;\n",
       "    }\n",
       "\n",
       "    .dataframe thead th {\n",
       "        text-align: right;\n",
       "    }\n",
       "</style>\n",
       "<table border=\"1\" class=\"dataframe\">\n",
       "  <thead>\n",
       "    <tr style=\"text-align: right;\">\n",
       "      <th></th>\n",
       "      <th>model</th>\n",
       "      <th>acc_train</th>\n",
       "      <th>acc_test</th>\n",
       "      <th>f1_train</th>\n",
       "      <th>f1_test</th>\n",
       "      <th>recall_train</th>\n",
       "      <th>recall_test</th>\n",
       "      <th>precision_train</th>\n",
       "      <th>precision_test</th>\n",
       "    </tr>\n",
       "  </thead>\n",
       "  <tbody>\n",
       "    <tr>\n",
       "      <th>0</th>\n",
       "      <td>logreg</td>\n",
       "      <td>0.667</td>\n",
       "      <td>0.663</td>\n",
       "      <td>0.671</td>\n",
       "      <td>0.549</td>\n",
       "      <td>0.680</td>\n",
       "      <td>0.677</td>\n",
       "      <td>0.663</td>\n",
       "      <td>0.462</td>\n",
       "    </tr>\n",
       "    <tr>\n",
       "      <th>0</th>\n",
       "      <td>decisiontree</td>\n",
       "      <td>0.671</td>\n",
       "      <td>0.692</td>\n",
       "      <td>0.661</td>\n",
       "      <td>0.555</td>\n",
       "      <td>0.642</td>\n",
       "      <td>0.634</td>\n",
       "      <td>0.681</td>\n",
       "      <td>0.493</td>\n",
       "    </tr>\n",
       "    <tr>\n",
       "      <th>0</th>\n",
       "      <td>randomforest</td>\n",
       "      <td>0.745</td>\n",
       "      <td>0.762</td>\n",
       "      <td>0.744</td>\n",
       "      <td>0.660</td>\n",
       "      <td>0.741</td>\n",
       "      <td>0.761</td>\n",
       "      <td>0.746</td>\n",
       "      <td>0.582</td>\n",
       "    </tr>\n",
       "    <tr>\n",
       "      <th>0</th>\n",
       "      <td>XGBoost</td>\n",
       "      <td>0.683</td>\n",
       "      <td>0.691</td>\n",
       "      <td>0.680</td>\n",
       "      <td>0.571</td>\n",
       "      <td>0.673</td>\n",
       "      <td>0.678</td>\n",
       "      <td>0.687</td>\n",
       "      <td>0.493</td>\n",
       "    </tr>\n",
       "    <tr>\n",
       "      <th>0</th>\n",
       "      <td>adaBoost</td>\n",
       "      <td>0.673</td>\n",
       "      <td>0.670</td>\n",
       "      <td>0.677</td>\n",
       "      <td>0.558</td>\n",
       "      <td>0.684</td>\n",
       "      <td>0.688</td>\n",
       "      <td>0.670</td>\n",
       "      <td>0.470</td>\n",
       "    </tr>\n",
       "  </tbody>\n",
       "</table>\n",
       "</div>"
      ],
      "text/plain": [
       "          model  acc_train  acc_test  f1_train  f1_test  recall_train  \\\n",
       "0        logreg      0.667     0.663     0.671    0.549         0.680   \n",
       "0  decisiontree      0.671     0.692     0.661    0.555         0.642   \n",
       "0  randomforest      0.745     0.762     0.744    0.660         0.741   \n",
       "0       XGBoost      0.683     0.691     0.680    0.571         0.673   \n",
       "0      adaBoost      0.673     0.670     0.677    0.558         0.684   \n",
       "\n",
       "   recall_test  precision_train  precision_test  \n",
       "0        0.677            0.663           0.462  \n",
       "0        0.634            0.681           0.493  \n",
       "0        0.761            0.746           0.582  \n",
       "0        0.678            0.687           0.493  \n",
       "0        0.688            0.670           0.470  "
      ]
     },
     "execution_count": 290,
     "metadata": {},
     "output_type": "execute_result"
    }
   ],
   "source": [
    "feature_importance_combined_dropping.round(3)"
   ]
  },
  {
   "cell_type": "markdown",
   "metadata": {},
   "source": [
    "| model        |   acc_train |   acc_test |   f1_train |   f1_test |   recall_train |   recall_test |   precision_train |   precision_test |\n",
    "|:-------------|------------:|-----------:|-----------:|----------:|---------------:|--------------:|------------------:|-----------------:|\n",
    "| logreg       |        0.67 |       0.66 |       0.67 |      0.55 |           0.68 |          0.68 |              0.66 |             0.46 |\n",
    "| decisiontree |        0.67 |       0.69 |       0.66 |      0.55 |           0.64 |          0.63 |              0.68 |             0.49 |\n",
    "| randomforest |        0.74 |       0.76 |       0.74 |      0.66 |           0.74 |          0.76 |              0.75 |             0.58 |\n",
    "| XGBoost      |        0.68 |       0.69 |       0.68 |      0.57 |           0.67 |          0.68 |              0.69 |             0.49 |\n",
    "| adaBoost     |        0.67 |       0.67 |       0.68 |      0.56 |           0.68 |          0.69 |              0.67 |             0.47 |"
   ]
  },
  {
   "cell_type": "code",
   "execution_count": 129,
   "metadata": {},
   "outputs": [],
   "source": [
    "feature_importance_combined_dropping.to_csv('ml_results/feature_importance_combined_dropping.csv')"
   ]
  },
  {
   "cell_type": "code",
   "execution_count": 149,
   "metadata": {},
   "outputs": [
    {
     "name": "stdout",
     "output_type": "stream",
     "text": [
      "Undersampling\n",
      "KNN\n",
      "\n",
      "Confusion matrix on test\n",
      "[[20894 11276]\n",
      " [ 4536  9459]]\n",
      "\n",
      "\n",
      "SVC\n",
      "\n",
      "Confusion matrix on test\n",
      "[[20955 11215]\n",
      " [ 4477  9518]]\n",
      "\n",
      "\n",
      "logreg\n",
      "\n",
      "Confusion matrix on test\n",
      "[[21068 11102]\n",
      " [ 4497  9498]]\n",
      "\n",
      "\n",
      "decisiontree\n",
      "\n",
      "Confusion matrix on test\n",
      "[[22534  9636]\n",
      " [ 4887  9108]]\n",
      "\n",
      "\n",
      "randomforest\n",
      "\n",
      "Confusion matrix on test\n",
      "[[24354  7816]\n",
      " [ 3318 10677]]\n",
      "\n",
      "\n",
      "XGBoost\n",
      "\n",
      "Confusion matrix on test\n",
      "[[22459  9711]\n",
      " [ 4563  9432]]\n",
      "\n",
      "\n",
      "adaBoost\n",
      "\n",
      "Confusion matrix on test\n",
      "[[21262 10908]\n",
      " [ 4385  9610]]\n",
      "\n",
      "\n"
     ]
    }
   ],
   "source": [
    "feature_importance_combined_dropping_KNN = pipeline(X,y,balance='under')"
   ]
  },
  {
   "cell_type": "code",
   "execution_count": 291,
   "metadata": {},
   "outputs": [
    {
     "data": {
      "text/html": [
       "<div>\n",
       "<style scoped>\n",
       "    .dataframe tbody tr th:only-of-type {\n",
       "        vertical-align: middle;\n",
       "    }\n",
       "\n",
       "    .dataframe tbody tr th {\n",
       "        vertical-align: top;\n",
       "    }\n",
       "\n",
       "    .dataframe thead th {\n",
       "        text-align: right;\n",
       "    }\n",
       "</style>\n",
       "<table border=\"1\" class=\"dataframe\">\n",
       "  <thead>\n",
       "    <tr style=\"text-align: right;\">\n",
       "      <th></th>\n",
       "      <th>model</th>\n",
       "      <th>acc_train</th>\n",
       "      <th>acc_test</th>\n",
       "      <th>f1_train</th>\n",
       "      <th>f1_test</th>\n",
       "      <th>recall_train</th>\n",
       "      <th>recall_test</th>\n",
       "      <th>precision_train</th>\n",
       "      <th>precision_test</th>\n",
       "    </tr>\n",
       "  </thead>\n",
       "  <tbody>\n",
       "    <tr>\n",
       "      <th>0</th>\n",
       "      <td>KNN</td>\n",
       "      <td>0.656</td>\n",
       "      <td>0.657</td>\n",
       "      <td>0.660</td>\n",
       "      <td>0.545</td>\n",
       "      <td>0.669</td>\n",
       "      <td>0.676</td>\n",
       "      <td>0.652</td>\n",
       "      <td>0.456</td>\n",
       "    </tr>\n",
       "    <tr>\n",
       "      <th>0</th>\n",
       "      <td>SVC</td>\n",
       "      <td>0.668</td>\n",
       "      <td>0.660</td>\n",
       "      <td>0.674</td>\n",
       "      <td>0.548</td>\n",
       "      <td>0.685</td>\n",
       "      <td>0.680</td>\n",
       "      <td>0.662</td>\n",
       "      <td>0.459</td>\n",
       "    </tr>\n",
       "    <tr>\n",
       "      <th>0</th>\n",
       "      <td>logreg</td>\n",
       "      <td>0.668</td>\n",
       "      <td>0.662</td>\n",
       "      <td>0.673</td>\n",
       "      <td>0.549</td>\n",
       "      <td>0.682</td>\n",
       "      <td>0.679</td>\n",
       "      <td>0.664</td>\n",
       "      <td>0.461</td>\n",
       "    </tr>\n",
       "    <tr>\n",
       "      <th>0</th>\n",
       "      <td>decisiontree</td>\n",
       "      <td>0.675</td>\n",
       "      <td>0.685</td>\n",
       "      <td>0.664</td>\n",
       "      <td>0.556</td>\n",
       "      <td>0.643</td>\n",
       "      <td>0.651</td>\n",
       "      <td>0.687</td>\n",
       "      <td>0.486</td>\n",
       "    </tr>\n",
       "    <tr>\n",
       "      <th>0</th>\n",
       "      <td>randomforest</td>\n",
       "      <td>0.744</td>\n",
       "      <td>0.759</td>\n",
       "      <td>0.743</td>\n",
       "      <td>0.657</td>\n",
       "      <td>0.740</td>\n",
       "      <td>0.763</td>\n",
       "      <td>0.745</td>\n",
       "      <td>0.577</td>\n",
       "    </tr>\n",
       "    <tr>\n",
       "      <th>0</th>\n",
       "      <td>XGBoost</td>\n",
       "      <td>0.684</td>\n",
       "      <td>0.691</td>\n",
       "      <td>0.680</td>\n",
       "      <td>0.569</td>\n",
       "      <td>0.672</td>\n",
       "      <td>0.674</td>\n",
       "      <td>0.689</td>\n",
       "      <td>0.493</td>\n",
       "    </tr>\n",
       "    <tr>\n",
       "      <th>0</th>\n",
       "      <td>adaBoost</td>\n",
       "      <td>0.674</td>\n",
       "      <td>0.669</td>\n",
       "      <td>0.678</td>\n",
       "      <td>0.557</td>\n",
       "      <td>0.686</td>\n",
       "      <td>0.687</td>\n",
       "      <td>0.670</td>\n",
       "      <td>0.468</td>\n",
       "    </tr>\n",
       "  </tbody>\n",
       "</table>\n",
       "</div>"
      ],
      "text/plain": [
       "          model  acc_train  acc_test  f1_train  f1_test  recall_train  \\\n",
       "0           KNN      0.656     0.657     0.660    0.545         0.669   \n",
       "0           SVC      0.668     0.660     0.674    0.548         0.685   \n",
       "0        logreg      0.668     0.662     0.673    0.549         0.682   \n",
       "0  decisiontree      0.675     0.685     0.664    0.556         0.643   \n",
       "0  randomforest      0.744     0.759     0.743    0.657         0.740   \n",
       "0       XGBoost      0.684     0.691     0.680    0.569         0.672   \n",
       "0      adaBoost      0.674     0.669     0.678    0.557         0.686   \n",
       "\n",
       "   recall_test  precision_train  precision_test  \n",
       "0        0.676            0.652           0.456  \n",
       "0        0.680            0.662           0.459  \n",
       "0        0.679            0.664           0.461  \n",
       "0        0.651            0.687           0.486  \n",
       "0        0.763            0.745           0.577  \n",
       "0        0.674            0.689           0.493  \n",
       "0        0.687            0.670           0.468  "
      ]
     },
     "execution_count": 291,
     "metadata": {},
     "output_type": "execute_result"
    }
   ],
   "source": [
    "feature_importance_combined_dropping_KNN.round(3)"
   ]
  },
  {
   "cell_type": "markdown",
   "metadata": {},
   "source": [
    "## Optimization of Random Forest"
   ]
  },
  {
   "cell_type": "code",
   "execution_count": 53,
   "metadata": {},
   "outputs": [],
   "source": [
    "def pipeline_optimization(X,y,balance=None):\n",
    "    \n",
    "    # devide features\n",
    "    categoric_features = list(X.columns[X.dtypes==object])\n",
    "\n",
    "    numeric_features = list(X.columns[X.dtypes != object])\n",
    "\n",
    "    # split train and test set\n",
    "    X_train, X_test, y_train, y_test = train_test_split(X, y, random_state=random_state,stratify=y)\n",
    "    \n",
    "    if balance == 'over':\n",
    "        # define oversampling strategy\n",
    "        print('Oversampling')\n",
    "        oversample = RandomOverSampler(sampling_strategy='minority')\n",
    "        X_train, y_train = oversample.fit_resample(X_train, y_train)\n",
    "\n",
    "    if balance == 'under':\n",
    "        print('Undersampling')\n",
    "        # define undersample strategy\n",
    "        undersample = RandomUnderSampler(sampling_strategy='majority')\n",
    "        X_train, y_train = undersample.fit_resample(X_train, y_train)\n",
    "        \n",
    "    # Hyperparameter grid\n",
    "    param_randomforest = {\n",
    "    'randomforest__criterion': ['entropy','gini'], #np.linspace(10, 500,50).astype(int),\n",
    "    'randomforest__n_estimators': [100, 200, 300, 400, 500, 1000], #np.linspace(10, 500,50).astype(int),\n",
    "    'randomforest__max_depth': [None] + list(np.arange(5, 100, 5).astype(int)),\n",
    "    'randomforest__max_features': ['auto', 'sqrt', None],\n",
    "    'randomforest__bootstrap': [True, False],\n",
    "    'randomforest__min_samples_leaf': [1, 2, 3],\n",
    "    'randomforest__min_samples_split': [2, 3, 4],\n",
    "    }\n",
    "    \n",
    "    models={\n",
    "        #'KNN' : KNeighborsClassifier(n_neighbors=5, metric='euclidean',n_jobs=-1),\n",
    "        #'SVC' : LinearSVC(),\n",
    "        #'logreg': LogisticRegression(random_state=random_state,n_jobs=-1), \n",
    "        #'decisiontree': DecisionTreeClassifier(random_state=random_state,max_depth=10),\n",
    "        'randomforest': RandomForestClassifier(random_state=random_state, n_jobs=-1)\n",
    "        #'XGBoost' : XGBClassifier(random_state=random_state, n_jobs=-1),\n",
    "        #'adaBoost' : AdaBoostClassifier(random_state=random_state)\n",
    "        }  \n",
    "    \n",
    "    # create preprocessors\n",
    "    numeric_transformer = Pipeline(steps=[\n",
    "        ('imputer_num', SimpleImputer(strategy='median')),\n",
    "        ('scaler', MinMaxScaler())\n",
    "        #('scaler', StandardScaler())\n",
    "    ])\n",
    "\n",
    "    categorical_transformer = Pipeline(steps=[\n",
    "            ('imputer_cat', SimpleImputer(strategy='constant', fill_value='missing')),\n",
    "            ('onehot', OneHotEncoder(handle_unknown='ignore'))\n",
    "    ])\n",
    "\n",
    "    preprocessor = ColumnTransformer(\n",
    "        transformers=[\n",
    "            ('num', numeric_transformer, numeric_features),\n",
    "            ('cat', categorical_transformer, categoric_features)\n",
    "        ])\n",
    "\n",
    "    model_results = pd.DataFrame(columns=['model','acc_train','acc_test','f1_train','f1_test','recall_train','recall_test','precision_train','precision_test'])\n",
    "    \n",
    "    # process pipeline for every model\n",
    "    for model in models.items():\n",
    "        \n",
    "        print(model[0])\n",
    "        pipe = Pipeline(steps=[('preprocessor', preprocessor), \n",
    "                               (model[0], model[1])\n",
    "                               ])\n",
    "\n",
    "        grid_randomforest = RandomizedSearchCV(pipe, param_randomforest, cv=3, scoring='f1',\n",
    "                           verbose=5, n_jobs=-1, n_iter = 100)\n",
    "        # fit model\n",
    "        grid_randomforest.fit(X_train, y_train)\n",
    "        #pipe.fit(X_train, y_train)\n",
    "        \n",
    "        # Show best parameters\n",
    "        print('Best score:\\n{:.2f}'.format(grid_randomforest.best_score_))\n",
    "        print(\"Best parameters:\\n{}\".format(grid_randomforest.best_params_))\n",
    "        \n",
    "        # Save best model as best_model\n",
    "        best_model = grid_randomforest.best_estimator_\n",
    "        \n",
    "        #pipe_best = Pipeline(steps=[('preprocessor', preprocessor), \n",
    "        #                       (model[0], best_model)\n",
    "        #                       ])\n",
    "        \n",
    "        # fit best pipe\n",
    "        #pipe_best.fit(X_train, y_train)\n",
    "        #predict results\n",
    "        #y_train_pred = cross_val_predict(grid_randomforest,X_train,y_train,cv=5)\n",
    "        y_train_pred = grid_randomforest.predict(X_train)\n",
    "        #y_train_pred = cross_val_predict(pipe_best, X_train, y_train, cv=5)\n",
    "\n",
    "        y_test_pred = grid_randomforest.predict(X_test)\n",
    "        \n",
    "        results = train_predict(model[0],y_train, y_test, y_train_pred, y_test_pred)\n",
    "        \n",
    "        model_results = pd.concat([model_results, pd.DataFrame(results,index=[0])])\n",
    "        # print results\n",
    "        #print(\"\\nResults on training data: \")\n",
    "        #print(classification_report(y_train, y_train_pred))\n",
    "        #print(\"\\nResults on test data:\")\n",
    "        #print(classification_report(y_test, y_test_pred))\n",
    "        print(\"\\nConfusion matrix on test\")\n",
    "        print(confusion_matrix(y_test, y_test_pred))\n",
    "        print(\"\\n\")\n",
    "    return model_results"
   ]
  },
  {
   "cell_type": "markdown",
   "metadata": {},
   "source": [
    "### Optimization of RandomForest - Recall - RandomSearch"
   ]
  },
  {
   "cell_type": "code",
   "execution_count": 194,
   "metadata": {},
   "outputs": [
    {
     "name": "stdout",
     "output_type": "stream",
     "text": [
      "Undersampling\n",
      "randomforest\n",
      "Fitting 3 folds for each of 100 candidates, totalling 300 fits\n"
     ]
    },
    {
     "name": "stderr",
     "output_type": "stream",
     "text": [
      "[Parallel(n_jobs=-1)]: Using backend LokyBackend with 8 concurrent workers.\n",
      "[Parallel(n_jobs=-1)]: Done   2 tasks      | elapsed:   21.9s\n",
      "[Parallel(n_jobs=-1)]: Done  56 tasks      | elapsed: 30.4min\n",
      "[Parallel(n_jobs=-1)]: Done 146 tasks      | elapsed: 72.8min\n",
      "[Parallel(n_jobs=-1)]: Done 272 tasks      | elapsed: 109.9min\n",
      "[Parallel(n_jobs=-1)]: Done 300 out of 300 | elapsed: 116.6min finished\n"
     ]
    },
    {
     "name": "stdout",
     "output_type": "stream",
     "text": [
      "Best score:\n",
      "0.73\n",
      "Best parameters:\n",
      "{'randomforest__n_estimators': 500, 'randomforest__min_samples_split': 5, 'randomforest__min_samples_leaf': 1, 'randomforest__max_features': 'sqrt', 'randomforest__max_depth': None, 'randomforest__bootstrap': True}\n",
      "\n",
      "Confusion matrix on test\n",
      "[[24489  7681]\n",
      " [ 3260 10735]]\n",
      "\n",
      "\n"
     ]
    }
   ],
   "source": [
    "RandomizedSearch_randomforst = pipeline_optimization(X,y,balance='under')"
   ]
  },
  {
   "cell_type": "markdown",
   "metadata": {},
   "source": [
    "Best score:\n",
    "0.73\n",
    "\n",
    "Best parameters:\n",
    "{'randomforest__n_estimators': 500, 'randomforest__min_samples_split': 5, 'randomforest__min_samples_leaf': 1, 'randomforest__max_features': 'sqrt', 'randomforest__max_depth': None, 'randomforest__bootstrap': True}\n",
    "\n",
    "Confusion matrix on test\n",
    "\n",
    "[[24489  7681]\n",
    "\n",
    " [ 3260 10735]]"
   ]
  },
  {
   "cell_type": "code",
   "execution_count": 196,
   "metadata": {},
   "outputs": [
    {
     "data": {
      "text/html": [
       "<div>\n",
       "<style scoped>\n",
       "    .dataframe tbody tr th:only-of-type {\n",
       "        vertical-align: middle;\n",
       "    }\n",
       "\n",
       "    .dataframe tbody tr th {\n",
       "        vertical-align: top;\n",
       "    }\n",
       "\n",
       "    .dataframe thead th {\n",
       "        text-align: right;\n",
       "    }\n",
       "</style>\n",
       "<table border=\"1\" class=\"dataframe\">\n",
       "  <thead>\n",
       "    <tr style=\"text-align: right;\">\n",
       "      <th></th>\n",
       "      <th>model</th>\n",
       "      <th>acc_train</th>\n",
       "      <th>acc_test</th>\n",
       "      <th>f1_train</th>\n",
       "      <th>f1_test</th>\n",
       "      <th>recall_train</th>\n",
       "      <th>recall_test</th>\n",
       "      <th>precision_train</th>\n",
       "      <th>precision_test</th>\n",
       "    </tr>\n",
       "  </thead>\n",
       "  <tbody>\n",
       "    <tr>\n",
       "      <th>0</th>\n",
       "      <td>randomforest</td>\n",
       "      <td>0.989</td>\n",
       "      <td>0.763</td>\n",
       "      <td>0.989</td>\n",
       "      <td>0.662</td>\n",
       "      <td>0.99</td>\n",
       "      <td>0.767</td>\n",
       "      <td>0.987</td>\n",
       "      <td>0.583</td>\n",
       "    </tr>\n",
       "  </tbody>\n",
       "</table>\n",
       "</div>"
      ],
      "text/plain": [
       "          model  acc_train  acc_test  f1_train  f1_test  recall_train  \\\n",
       "0  randomforest      0.989     0.763     0.989    0.662          0.99   \n",
       "\n",
       "   recall_test  precision_train  precision_test  \n",
       "0        0.767            0.987           0.583  "
      ]
     },
     "execution_count": 196,
     "metadata": {},
     "output_type": "execute_result"
    }
   ],
   "source": [
    "RandomizedSearch_randomforst.round(3)"
   ]
  },
  {
   "cell_type": "code",
   "execution_count": 310,
   "metadata": {},
   "outputs": [],
   "source": [
    "conf_matrix = np.array([[24489,  7681],[ 3260, 10735]])"
   ]
  },
  {
   "cell_type": "code",
   "execution_count": 311,
   "metadata": {},
   "outputs": [
    {
     "data": {
      "image/png": "[encoded data removed]",
      "text/plain": [
       "<Figure size 432x288 with 2 Axes>"
      ]
     },
     "metadata": {},
     "output_type": "display_data"
    }
   ],
   "source": [
    "sns.heatmap(conf_matrix, annot=True, cmap=\"Blues\",fmt='d')\n",
    "plt.show()\n",
    "plt.close()"
   ]
  },
  {
   "cell_type": "code",
   "execution_count": 331,
   "metadata": {},
   "outputs": [
    {
     "data": {
      "image/png": "[encoded data removed]",
      "text/plain": [
       "<Figure size 576x504 with 2 Axes>"
      ]
     },
     "metadata": {},
     "output_type": "display_data"
    }
   ],
   "source": [
    "conf_matrix = np.array([[24489,  7681],[ 3260, 10735]])\n",
    "\n",
    "group_names = ['True Neg','False Pos','False Neg','True Pos']\n",
    "group_counts = [\"{0:0.0f}\".format(value) for value in\n",
    "                conf_matrix.flatten()]\n",
    "group_percentages = [\"{0:.2%}\".format(value) for value in\n",
    "                     conf_matrix.flatten()/np.sum(conf_matrix)]\n",
    "labels = [f\"{v1}\\n{v2}\\n{v3}\" for v1, v2, v3 in\n",
    "          zip(group_names,group_counts,group_percentages)]\n",
    "labels = np.asarray(labels).reshape(2,2)\n",
    "sns.set(font_scale=1.6)\n",
    "fig, ax = plt.subplots(figsize=(8,7)) \n",
    "sns.heatmap(conf_matrix, annot=labels, fmt='', cmap='Blues',annot_kws={\"size\": 16})\n",
    "plt.title('Confusion Matrix: Random Forest (optimized)', fontsize = 16); # title with fontsize 20\n",
    "plt.xlabel('Predicted', fontsize = 16);\n",
    "plt.ylabel('Actual', fontsize = 16);\n",
    "plt.savefig('plots/confusion_matrix_RF_optimized.png',dpi=300)"
   ]
  },
  {
   "cell_type": "code",
   "execution_count": 305,
   "metadata": {},
   "outputs": [
    {
     "name": "stdout",
     "output_type": "stream",
     "text": [
      "Undersampling\n",
      "KNN\n"
     ]
    },
    {
     "data": {
      "image/png": "[encoded data removed]",
      "text/plain": [
       "<Figure size 432x288 with 2 Axes>"
      ]
     },
     "metadata": {},
     "output_type": "display_data"
    },
    {
     "name": "stdout",
     "output_type": "stream",
     "text": [
      "\n",
      "Confusion matrix on test\n",
      "[[20818 11352]\n",
      " [ 4551  9444]]\n",
      "\n",
      "\n",
      "SVC\n"
     ]
    },
    {
     "data": {
      "image/png": "[encoded data removed]",
      "text/plain": [
       "<Figure size 432x288 with 2 Axes>"
      ]
     },
     "metadata": {},
     "output_type": "display_data"
    },
    {
     "name": "stdout",
     "output_type": "stream",
     "text": [
      "\n",
      "Confusion matrix on test\n",
      "[[20931 11239]\n",
      " [ 4457  9538]]\n",
      "\n",
      "\n",
      "logreg\n"
     ]
    },
    {
     "data": {
      "image/png": "[encoded data removed]",
      "text/plain": [
       "<Figure size 432x288 with 2 Axes>"
      ]
     },
     "metadata": {},
     "output_type": "display_data"
    },
    {
     "name": "stdout",
     "output_type": "stream",
     "text": [
      "\n",
      "Confusion matrix on test\n",
      "[[21078 11092]\n",
      " [ 4490  9505]]\n",
      "\n",
      "\n",
      "decisiontree\n"
     ]
    },
    {
     "data": {
      "image/png": "[encoded data removed]",
      "text/plain": [
       "<Figure size 432x288 with 2 Axes>"
      ]
     },
     "metadata": {},
     "output_type": "display_data"
    },
    {
     "name": "stdout",
     "output_type": "stream",
     "text": [
      "\n",
      "Confusion matrix on test\n",
      "[[22492  9678]\n",
      " [ 4913  9082]]\n",
      "\n",
      "\n",
      "randomforest\n"
     ]
    },
    {
     "data": {
      "image/png": "[encoded data removed]",
      "text/plain": [
       "<Figure size 432x288 with 2 Axes>"
      ]
     },
     "metadata": {},
     "output_type": "display_data"
    },
    {
     "name": "stdout",
     "output_type": "stream",
     "text": [
      "\n",
      "Confusion matrix on test\n",
      "[[24318  7852]\n",
      " [ 3317 10678]]\n",
      "\n",
      "\n",
      "XGBoost\n"
     ]
    },
    {
     "data": {
      "image/png": "[encoded data removed]",
      "text/plain": [
       "<Figure size 432x288 with 2 Axes>"
      ]
     },
     "metadata": {},
     "output_type": "display_data"
    },
    {
     "name": "stdout",
     "output_type": "stream",
     "text": [
      "\n",
      "Confusion matrix on test\n",
      "[[22344  9826]\n",
      " [ 4469  9526]]\n",
      "\n",
      "\n",
      "adaBoost\n"
     ]
    },
    {
     "data": {
      "image/png": "[encoded data removed]",
      "text/plain": [
       "<Figure size 432x288 with 2 Axes>"
      ]
     },
     "metadata": {},
     "output_type": "display_data"
    },
    {
     "name": "stdout",
     "output_type": "stream",
     "text": [
      "\n",
      "Confusion matrix on test\n",
      "[[21254 10916]\n",
      " [ 4340  9655]]\n",
      "\n",
      "\n"
     ]
    }
   ],
   "source": [
    "Results_RF_presentation = pipeline(X,y,balance='under')"
   ]
  },
  {
   "cell_type": "code",
   "execution_count": 306,
   "metadata": {},
   "outputs": [
    {
     "data": {
      "text/html": [
       "<div>\n",
       "<style scoped>\n",
       "    .dataframe tbody tr th:only-of-type {\n",
       "        vertical-align: middle;\n",
       "    }\n",
       "\n",
       "    .dataframe tbody tr th {\n",
       "        vertical-align: top;\n",
       "    }\n",
       "\n",
       "    .dataframe thead th {\n",
       "        text-align: right;\n",
       "    }\n",
       "</style>\n",
       "<table border=\"1\" class=\"dataframe\">\n",
       "  <thead>\n",
       "    <tr style=\"text-align: right;\">\n",
       "      <th></th>\n",
       "      <th>model</th>\n",
       "      <th>acc_train</th>\n",
       "      <th>acc_test</th>\n",
       "      <th>f1_train</th>\n",
       "      <th>f1_test</th>\n",
       "      <th>recall_train</th>\n",
       "      <th>recall_test</th>\n",
       "      <th>precision_train</th>\n",
       "      <th>precision_test</th>\n",
       "    </tr>\n",
       "  </thead>\n",
       "  <tbody>\n",
       "    <tr>\n",
       "      <th>0</th>\n",
       "      <td>KNN</td>\n",
       "      <td>0.653</td>\n",
       "      <td>0.656</td>\n",
       "      <td>0.657</td>\n",
       "      <td>0.543</td>\n",
       "      <td>0.666</td>\n",
       "      <td>0.675</td>\n",
       "      <td>0.649</td>\n",
       "      <td>0.454</td>\n",
       "    </tr>\n",
       "    <tr>\n",
       "      <th>0</th>\n",
       "      <td>SVC</td>\n",
       "      <td>0.668</td>\n",
       "      <td>0.660</td>\n",
       "      <td>0.674</td>\n",
       "      <td>0.549</td>\n",
       "      <td>0.685</td>\n",
       "      <td>0.682</td>\n",
       "      <td>0.662</td>\n",
       "      <td>0.459</td>\n",
       "    </tr>\n",
       "    <tr>\n",
       "      <th>0</th>\n",
       "      <td>logreg</td>\n",
       "      <td>0.669</td>\n",
       "      <td>0.662</td>\n",
       "      <td>0.673</td>\n",
       "      <td>0.550</td>\n",
       "      <td>0.682</td>\n",
       "      <td>0.679</td>\n",
       "      <td>0.664</td>\n",
       "      <td>0.461</td>\n",
       "    </tr>\n",
       "    <tr>\n",
       "      <th>0</th>\n",
       "      <td>decisiontree</td>\n",
       "      <td>0.674</td>\n",
       "      <td>0.684</td>\n",
       "      <td>0.664</td>\n",
       "      <td>0.555</td>\n",
       "      <td>0.645</td>\n",
       "      <td>0.649</td>\n",
       "      <td>0.686</td>\n",
       "      <td>0.484</td>\n",
       "    </tr>\n",
       "    <tr>\n",
       "      <th>0</th>\n",
       "      <td>randomforest</td>\n",
       "      <td>0.746</td>\n",
       "      <td>0.758</td>\n",
       "      <td>0.745</td>\n",
       "      <td>0.657</td>\n",
       "      <td>0.744</td>\n",
       "      <td>0.763</td>\n",
       "      <td>0.746</td>\n",
       "      <td>0.576</td>\n",
       "    </tr>\n",
       "    <tr>\n",
       "      <th>0</th>\n",
       "      <td>XGBoost</td>\n",
       "      <td>0.685</td>\n",
       "      <td>0.690</td>\n",
       "      <td>0.681</td>\n",
       "      <td>0.571</td>\n",
       "      <td>0.673</td>\n",
       "      <td>0.681</td>\n",
       "      <td>0.689</td>\n",
       "      <td>0.492</td>\n",
       "    </tr>\n",
       "    <tr>\n",
       "      <th>0</th>\n",
       "      <td>adaBoost</td>\n",
       "      <td>0.675</td>\n",
       "      <td>0.670</td>\n",
       "      <td>0.679</td>\n",
       "      <td>0.559</td>\n",
       "      <td>0.688</td>\n",
       "      <td>0.690</td>\n",
       "      <td>0.670</td>\n",
       "      <td>0.469</td>\n",
       "    </tr>\n",
       "  </tbody>\n",
       "</table>\n",
       "</div>"
      ],
      "text/plain": [
       "          model  acc_train  acc_test  f1_train  f1_test  recall_train  \\\n",
       "0           KNN      0.653     0.656     0.657    0.543         0.666   \n",
       "0           SVC      0.668     0.660     0.674    0.549         0.685   \n",
       "0        logreg      0.669     0.662     0.673    0.550         0.682   \n",
       "0  decisiontree      0.674     0.684     0.664    0.555         0.645   \n",
       "0  randomforest      0.746     0.758     0.745    0.657         0.744   \n",
       "0       XGBoost      0.685     0.690     0.681    0.571         0.673   \n",
       "0      adaBoost      0.675     0.670     0.679    0.559         0.688   \n",
       "\n",
       "   recall_test  precision_train  precision_test  \n",
       "0        0.675            0.649           0.454  \n",
       "0        0.682            0.662           0.459  \n",
       "0        0.679            0.664           0.461  \n",
       "0        0.649            0.686           0.484  \n",
       "0        0.763            0.746           0.576  \n",
       "0        0.681            0.689           0.492  \n",
       "0        0.690            0.670           0.469  "
      ]
     },
     "execution_count": 306,
     "metadata": {},
     "output_type": "execute_result"
    }
   ],
   "source": [
    "Results_RF_presentation.round(3)"
   ]
  },
  {
   "cell_type": "markdown",
   "metadata": {},
   "source": [
    "### Optimization of RandomForest - Recall - Gridsearch"
   ]
  },
  {
   "cell_type": "code",
   "execution_count": 214,
   "metadata": {},
   "outputs": [],
   "source": [
    "def pipeline_optimization_part2(X,y,balance=None):\n",
    "    \n",
    "    # devide features\n",
    "    categoric_features = list(X.columns[X.dtypes==object])\n",
    "\n",
    "    numeric_features = list(X.columns[X.dtypes != object])\n",
    "\n",
    "    # split train and test set\n",
    "    X_train, X_test, y_train, y_test = train_test_split(X, y, random_state=random_state,stratify=y)\n",
    "    \n",
    "    if balance == 'over':\n",
    "        # define oversampling strategy\n",
    "        print('Oversampling')\n",
    "        oversample = RandomOverSampler(sampling_strategy='minority')\n",
    "        X_train, y_train = oversample.fit_resample(X_train, y_train)\n",
    "\n",
    "    if balance == 'under':\n",
    "        print('Undersampling')\n",
    "        # define undersample strategy\n",
    "        undersample = RandomUnderSampler(sampling_strategy='majority')\n",
    "        X_train, y_train = undersample.fit_resample(X_train, y_train)\n",
    "        \n",
    "    # Hyperparameter grid\n",
    "    param_randomforest = {\n",
    "    'randomforest__criterion' : ['gini', 'entropy'],\n",
    "    'randomforest__n_estimators': [360,380,400,420,440], #np.linspace(10, 500,50).astype(int),\n",
    "    'randomforest__max_depth': [32,35,37],\n",
    "    'randomforest__max_features': ['auto'],\n",
    "    'randomforest__bootstrap': [True],\n",
    "    'randomforest__min_samples_leaf': [1, 2],\n",
    "    'randomforest__min_samples_split': [3, 4, 5, 6, 7],\n",
    "    }\n",
    "    \n",
    "    models={\n",
    "        #'KNN' : KNeighborsClassifier(n_neighbors=5, metric='euclidean',n_jobs=-1),\n",
    "        #'SVC' : LinearSVC(),\n",
    "        #'logreg': LogisticRegression(random_state=random_state,n_jobs=-1), \n",
    "        #'decisiontree': DecisionTreeClassifier(random_state=random_state,max_depth=10),\n",
    "        'randomforest': RandomForestClassifier(random_state=random_state, n_jobs=-1,n_estimators=300)\n",
    "        #'XGBoost' : XGBClassifier(random_state=random_state, n_jobs=-1),\n",
    "        #'adaBoost' : AdaBoostClassifier(random_state=random_state)\n",
    "        }  \n",
    "    \n",
    "    # create preprocessors\n",
    "    numeric_transformer = Pipeline(steps=[\n",
    "        ('imputer_num', SimpleImputer(strategy='median')),\n",
    "        ('scaler', MinMaxScaler())\n",
    "        #('scaler', StandardScaler())\n",
    "    ])\n",
    "\n",
    "    categorical_transformer = Pipeline(steps=[\n",
    "            ('imputer_cat', SimpleImputer(strategy='constant', fill_value='missing')),\n",
    "            ('onehot', OneHotEncoder(handle_unknown='ignore'))\n",
    "    ])\n",
    "\n",
    "    preprocessor = ColumnTransformer(\n",
    "        transformers=[\n",
    "            ('num', numeric_transformer, numeric_features),\n",
    "            ('cat', categorical_transformer, categoric_features)\n",
    "        ])\n",
    "\n",
    "    model_results = pd.DataFrame(columns=['model','acc_train','acc_test','f1_train','f1_test','recall_train','recall_test','precision_train','precision_test'])\n",
    "    \n",
    "    # process pipeline for every model\n",
    "    for model in models.items():\n",
    "        \n",
    "        print(model[0])\n",
    "        pipe = Pipeline(steps=[('preprocessor', preprocessor), \n",
    "                               (model[0], model[1])\n",
    "                               ])\n",
    "        \n",
    "        grid_randomforest = GridSearchCV(pipe, param_grid = param_randomforest, \n",
    "                              cv = 3, scoring='f1', n_jobs = -1, verbose = 5)\n",
    "        # fit model\n",
    "        grid_randomforest.fit(X_train, y_train)\n",
    "        #pipe.fit(X_train, y_train)\n",
    "        \n",
    "        # Show best parameters\n",
    "        print('Best score:\\n{:.2f}'.format(grid_randomforest.best_score_))\n",
    "        print(\"Best parameters:\\n{}\".format(grid_randomforest.best_params_))\n",
    "        \n",
    "        # Save best model as best_model\n",
    "        best_model = grid_randomforest.best_estimator_\n",
    "        \n",
    "        #pipe_best = Pipeline(steps=[('preprocessor', preprocessor), \n",
    "        #                       (model[0], best_model)\n",
    "        #                       ])\n",
    "        \n",
    "        # fit best pipe\n",
    "        #pipe_best.fit(X_train, y_train)\n",
    "        #predict results\n",
    "        #y_train_pred = cross_val_predict(grid_randomforest,X_train,y_train,cv=5)\n",
    "        y_train_pred = grid_randomforest.predict(X_train)\n",
    "        #y_train_pred = cross_val_predict(pipe_best, X_train, y_train, cv=5)\n",
    "\n",
    "        y_test_pred = grid_randomforest.predict(X_test)\n",
    "        \n",
    "        results = train_predict(model[0],y_train, y_test, y_train_pred, y_test_pred)\n",
    "        \n",
    "        model_results = pd.concat([model_results, pd.DataFrame(results,index=[0])])\n",
    "        # print results\n",
    "        #print(\"\\nResults on training data: \")\n",
    "        #print(classification_report(y_train, y_train_pred))\n",
    "        #print(\"\\nResults on test data:\")\n",
    "        #print(classification_report(y_test, y_test_pred))\n",
    "        print(\"\\nConfusion matrix on test\")\n",
    "        print(confusion_matrix(y_test, y_test_pred))\n",
    "        print(\"\\n\")\n",
    "    return model_results"
   ]
  },
  {
   "cell_type": "code",
   "execution_count": 201,
   "metadata": {},
   "outputs": [
    {
     "name": "stdout",
     "output_type": "stream",
     "text": [
      "Undersampling\n",
      "randomforest\n",
      "Fitting 3 folds for each of 45 candidates, totalling 135 fits\n"
     ]
    },
    {
     "name": "stderr",
     "output_type": "stream",
     "text": [
      "[Parallel(n_jobs=-1)]: Using backend LokyBackend with 8 concurrent workers.\n",
      "[Parallel(n_jobs=-1)]: Done   2 tasks      | elapsed:  1.2min\n",
      "[Parallel(n_jobs=-1)]: Done  56 tasks      | elapsed:  9.9min\n",
      "[Parallel(n_jobs=-1)]: Done 135 out of 135 | elapsed: 21.9min finished\n"
     ]
    },
    {
     "name": "stdout",
     "output_type": "stream",
     "text": [
      "Best score:\n",
      "0.74\n",
      "Best parameters:\n",
      "{'randomforest__bootstrap': True, 'randomforest__max_depth': None, 'randomforest__max_features': 'sqrt', 'randomforest__min_samples_leaf': 1, 'randomforest__min_samples_split': 5, 'randomforest__n_estimators': 600}\n",
      "\n",
      "Confusion matrix on test\n",
      "[[24421  7749]\n",
      " [ 3283 10712]]\n",
      "\n",
      "\n"
     ]
    }
   ],
   "source": [
    "RandomizedSearch_randomforst_part2 = pipeline_optimization_part2(X,y,balance='under')"
   ]
  },
  {
   "cell_type": "markdown",
   "metadata": {},
   "source": [
    "Best score:\n",
    "0.74\n",
    "\n",
    "Best parameters:\n",
    "{'randomforest__bootstrap': True, 'randomforest__max_depth': None, 'randomforest__max_features': 'sqrt', 'randomforest__min_samples_leaf': 1, 'randomforest__min_samples_split': 5, 'randomforest__n_estimators': 600}\n",
    "\n",
    "Confusion matrix on test\n",
    "\n",
    "[[24421  7749]\n",
    " \n",
    " [ 3283 10712]]"
   ]
  },
  {
   "cell_type": "code",
   "execution_count": 210,
   "metadata": {},
   "outputs": [
    {
     "data": {
      "text/html": [
       "<div>\n",
       "<style scoped>\n",
       "    .dataframe tbody tr th:only-of-type {\n",
       "        vertical-align: middle;\n",
       "    }\n",
       "\n",
       "    .dataframe tbody tr th {\n",
       "        vertical-align: top;\n",
       "    }\n",
       "\n",
       "    .dataframe thead th {\n",
       "        text-align: right;\n",
       "    }\n",
       "</style>\n",
       "<table border=\"1\" class=\"dataframe\">\n",
       "  <thead>\n",
       "    <tr style=\"text-align: right;\">\n",
       "      <th></th>\n",
       "      <th>model</th>\n",
       "      <th>acc_train</th>\n",
       "      <th>acc_test</th>\n",
       "      <th>f1_train</th>\n",
       "      <th>f1_test</th>\n",
       "      <th>recall_train</th>\n",
       "      <th>recall_test</th>\n",
       "      <th>precision_train</th>\n",
       "      <th>precision_test</th>\n",
       "    </tr>\n",
       "  </thead>\n",
       "  <tbody>\n",
       "    <tr>\n",
       "      <th>0</th>\n",
       "      <td>randomforest</td>\n",
       "      <td>0.988972</td>\n",
       "      <td>0.761031</td>\n",
       "      <td>0.988988</td>\n",
       "      <td>0.660094</td>\n",
       "      <td>0.990401</td>\n",
       "      <td>0.765416</td>\n",
       "      <td>0.987579</td>\n",
       "      <td>0.58025</td>\n",
       "    </tr>\n",
       "  </tbody>\n",
       "</table>\n",
       "</div>"
      ],
      "text/plain": [
       "          model  acc_train  acc_test  f1_train   f1_test  recall_train  \\\n",
       "0  randomforest   0.988972  0.761031  0.988988  0.660094      0.990401   \n",
       "\n",
       "   recall_test  precision_train  precision_test  \n",
       "0     0.765416         0.987579         0.58025  "
      ]
     },
     "execution_count": 210,
     "metadata": {},
     "output_type": "execute_result"
    }
   ],
   "source": [
    "RandomizedSearch_randomforst_part2"
   ]
  },
  {
   "cell_type": "code",
   "execution_count": 203,
   "metadata": {},
   "outputs": [
    {
     "name": "stdout",
     "output_type": "stream",
     "text": [
      "Undersampling\n",
      "randomforest\n",
      "Fitting 3 folds for each of 90 candidates, totalling 270 fits\n"
     ]
    },
    {
     "name": "stderr",
     "output_type": "stream",
     "text": [
      "[Parallel(n_jobs=-1)]: Using backend LokyBackend with 8 concurrent workers.\n",
      "[Parallel(n_jobs=-1)]: Done   2 tasks      | elapsed:  1.7min\n",
      "[Parallel(n_jobs=-1)]: Done  56 tasks      | elapsed: 11.9min\n",
      "[Parallel(n_jobs=-1)]: Done 146 tasks      | elapsed: 29.5min\n",
      "[Parallel(n_jobs=-1)]: Done 270 out of 270 | elapsed: 55.8min finished\n"
     ]
    },
    {
     "name": "stdout",
     "output_type": "stream",
     "text": [
      "Best score:\n",
      "0.74\n",
      "Best parameters:\n",
      "{'randomforest__bootstrap': True, 'randomforest__criterion': 'entropy', 'randomforest__max_depth': None, 'randomforest__max_features': 'sqrt', 'randomforest__min_samples_leaf': 1, 'randomforest__min_samples_split': 6, 'randomforest__n_estimators': 600}\n",
      "\n",
      "Confusion matrix on test\n",
      "[[24342  7828]\n",
      " [ 3280 10715]]\n",
      "\n",
      "\n"
     ]
    }
   ],
   "source": [
    "RandomizedSearch_randomforst_part2_criterion = pipeline_optimization_part2(X,y,balance='under')"
   ]
  },
  {
   "cell_type": "code",
   "execution_count": 204,
   "metadata": {},
   "outputs": [
    {
     "data": {
      "text/html": [
       "<div>\n",
       "<style scoped>\n",
       "    .dataframe tbody tr th:only-of-type {\n",
       "        vertical-align: middle;\n",
       "    }\n",
       "\n",
       "    .dataframe tbody tr th {\n",
       "        vertical-align: top;\n",
       "    }\n",
       "\n",
       "    .dataframe thead th {\n",
       "        text-align: right;\n",
       "    }\n",
       "</style>\n",
       "<table border=\"1\" class=\"dataframe\">\n",
       "  <thead>\n",
       "    <tr style=\"text-align: right;\">\n",
       "      <th></th>\n",
       "      <th>model</th>\n",
       "      <th>acc_train</th>\n",
       "      <th>acc_test</th>\n",
       "      <th>f1_train</th>\n",
       "      <th>f1_test</th>\n",
       "      <th>recall_train</th>\n",
       "      <th>recall_test</th>\n",
       "      <th>precision_train</th>\n",
       "      <th>precision_test</th>\n",
       "    </tr>\n",
       "  </thead>\n",
       "  <tbody>\n",
       "    <tr>\n",
       "      <th>0</th>\n",
       "      <td>randomforest</td>\n",
       "      <td>0.985602</td>\n",
       "      <td>0.759385</td>\n",
       "      <td>0.985623</td>\n",
       "      <td>0.658615</td>\n",
       "      <td>0.987091</td>\n",
       "      <td>0.765631</td>\n",
       "      <td>0.984161</td>\n",
       "      <td>0.577846</td>\n",
       "    </tr>\n",
       "  </tbody>\n",
       "</table>\n",
       "</div>"
      ],
      "text/plain": [
       "          model  acc_train  acc_test  f1_train   f1_test  recall_train  \\\n",
       "0  randomforest   0.985602  0.759385  0.985623  0.658615      0.987091   \n",
       "\n",
       "   recall_test  precision_train  precision_test  \n",
       "0     0.765631         0.984161        0.577846  "
      ]
     },
     "execution_count": 204,
     "metadata": {},
     "output_type": "execute_result"
    }
   ],
   "source": [
    "RandomizedSearch_randomforst_part2_criterion"
   ]
  },
  {
   "cell_type": "markdown",
   "metadata": {},
   "source": [
    "### Optimization of RandomForest - F1 - RandomSearch"
   ]
  },
  {
   "cell_type": "code",
   "execution_count": 207,
   "metadata": {},
   "outputs": [
    {
     "name": "stdout",
     "output_type": "stream",
     "text": [
      "Undersampling\n",
      "randomforest\n",
      "Fitting 3 folds for each of 100 candidates, totalling 300 fits\n"
     ]
    },
    {
     "name": "stderr",
     "output_type": "stream",
     "text": [
      "[Parallel(n_jobs=-1)]: Using backend LokyBackend with 8 concurrent workers.\n",
      "[Parallel(n_jobs=-1)]: Done   2 tasks      | elapsed:  1.7min\n",
      "[Parallel(n_jobs=-1)]: Done  56 tasks      | elapsed: 24.2min\n",
      "[Parallel(n_jobs=-1)]: Done 146 tasks      | elapsed: 56.2min\n",
      "[Parallel(n_jobs=-1)]: Done 272 tasks      | elapsed: 111.0min\n",
      "[Parallel(n_jobs=-1)]: Done 300 out of 300 | elapsed: 122.1min finished\n"
     ]
    },
    {
     "name": "stdout",
     "output_type": "stream",
     "text": [
      "Best score:\n",
      "0.73\n",
      "Best parameters:\n",
      "{'randomforest__n_estimators': 400, 'randomforest__min_samples_split': 5, 'randomforest__min_samples_leaf': 1, 'randomforest__max_features': 'auto', 'randomforest__max_depth': 35, 'randomforest__bootstrap': True}\n",
      "\n",
      "Confusion matrix on test\n",
      "[[24490  7680]\n",
      " [ 3305 10690]]\n",
      "\n",
      "\n"
     ]
    }
   ],
   "source": [
    "RandomizedSearch_randomforst_f1 = pipeline_optimization(X,y,balance='under')"
   ]
  },
  {
   "cell_type": "markdown",
   "metadata": {},
   "source": [
    "Best score:\n",
    "0.73\n",
    "\n",
    "Best parameters:\n",
    "{'randomforest__n_estimators': 400, 'randomforest__min_samples_split': 5, 'randomforest__min_samples_leaf': 1, 'randomforest__max_features': 'auto', 'randomforest__max_depth': 35, 'randomforest__bootstrap': True}\n",
    "\n",
    "Confusion matrix on test\n",
    "\n",
    "[[24490  7680]\n",
    " \n",
    " [ 3305 10690]]"
   ]
  },
  {
   "cell_type": "code",
   "execution_count": 209,
   "metadata": {},
   "outputs": [
    {
     "data": {
      "text/html": [
       "<div>\n",
       "<style scoped>\n",
       "    .dataframe tbody tr th:only-of-type {\n",
       "        vertical-align: middle;\n",
       "    }\n",
       "\n",
       "    .dataframe tbody tr th {\n",
       "        vertical-align: top;\n",
       "    }\n",
       "\n",
       "    .dataframe thead th {\n",
       "        text-align: right;\n",
       "    }\n",
       "</style>\n",
       "<table border=\"1\" class=\"dataframe\">\n",
       "  <thead>\n",
       "    <tr style=\"text-align: right;\">\n",
       "      <th></th>\n",
       "      <th>model</th>\n",
       "      <th>acc_train</th>\n",
       "      <th>acc_test</th>\n",
       "      <th>f1_train</th>\n",
       "      <th>f1_test</th>\n",
       "      <th>recall_train</th>\n",
       "      <th>recall_test</th>\n",
       "      <th>precision_train</th>\n",
       "      <th>precision_test</th>\n",
       "    </tr>\n",
       "  </thead>\n",
       "  <tbody>\n",
       "    <tr>\n",
       "      <th>0</th>\n",
       "      <td>randomforest</td>\n",
       "      <td>0.988</td>\n",
       "      <td>0.762</td>\n",
       "      <td>0.988</td>\n",
       "      <td>0.661</td>\n",
       "      <td>0.989</td>\n",
       "      <td>0.764</td>\n",
       "      <td>0.987</td>\n",
       "      <td>0.582</td>\n",
       "    </tr>\n",
       "  </tbody>\n",
       "</table>\n",
       "</div>"
      ],
      "text/plain": [
       "          model  acc_train  acc_test  f1_train  f1_test  recall_train  \\\n",
       "0  randomforest      0.988     0.762     0.988    0.661         0.989   \n",
       "\n",
       "   recall_test  precision_train  precision_test  \n",
       "0        0.764            0.987           0.582  "
      ]
     },
     "execution_count": 209,
     "metadata": {},
     "output_type": "execute_result"
    }
   ],
   "source": [
    "RandomizedSearch_randomforst_f1.round(3)"
   ]
  },
  {
   "cell_type": "markdown",
   "metadata": {},
   "source": [
    "### Optimization of RandomForest - F1 - GridSearch"
   ]
  },
  {
   "cell_type": "code",
   "execution_count": 215,
   "metadata": {},
   "outputs": [
    {
     "name": "stdout",
     "output_type": "stream",
     "text": [
      "Undersampling\n",
      "randomforest\n",
      "Fitting 3 folds for each of 300 candidates, totalling 900 fits\n"
     ]
    },
    {
     "name": "stderr",
     "output_type": "stream",
     "text": [
      "[Parallel(n_jobs=-1)]: Using backend LokyBackend with 8 concurrent workers.\n",
      "[Parallel(n_jobs=-1)]: Done   2 tasks      | elapsed:  1.1min\n",
      "[Parallel(n_jobs=-1)]: Done  56 tasks      | elapsed:  8.6min\n",
      "[Parallel(n_jobs=-1)]: Done 146 tasks      | elapsed: 19.9min\n",
      "[Parallel(n_jobs=-1)]: Done 272 tasks      | elapsed: 36.5min\n",
      "[Parallel(n_jobs=-1)]: Done 434 tasks      | elapsed: 57.8min\n",
      "[Parallel(n_jobs=-1)]: Done 632 tasks      | elapsed: 87.1min\n",
      "[Parallel(n_jobs=-1)]: Done 866 tasks      | elapsed: 122.1min\n",
      "[Parallel(n_jobs=-1)]: Done 900 out of 900 | elapsed: 126.0min finished\n"
     ]
    },
    {
     "name": "stdout",
     "output_type": "stream",
     "text": [
      "Best score:\n",
      "0.74\n",
      "Best parameters:\n",
      "{'randomforest__bootstrap': True, 'randomforest__criterion': 'entropy', 'randomforest__max_depth': 35, 'randomforest__max_features': 'auto', 'randomforest__min_samples_leaf': 1, 'randomforest__min_samples_split': 4, 'randomforest__n_estimators': 380}\n",
      "\n",
      "Confusion matrix on test\n",
      "[[24437  7733]\n",
      " [ 3266 10729]]\n",
      "\n",
      "\n"
     ]
    }
   ],
   "source": [
    "RandomizedSearch_randomforst_f1_part2 = pipeline_optimization_part2(X,y,balance='under')"
   ]
  },
  {
   "cell_type": "markdown",
   "metadata": {},
   "source": [
    "Best score:\n",
    "0.74\n",
    "\n",
    "Best parameters:\n",
    "{'randomforest__bootstrap': True, 'randomforest__criterion': 'entropy', 'randomforest__max_depth': 35, 'randomforest__max_features': 'auto', 'randomforest__min_samples_leaf': 1, 'randomforest__min_samples_split': 4, 'randomforest__n_estimators': 380}\n",
    "\n",
    "Confusion matrix on test\n",
    "\n",
    "[[24437  7733]\n",
    " \n",
    " [ 3266 10729]]\n"
   ]
  },
  {
   "cell_type": "code",
   "execution_count": 216,
   "metadata": {},
   "outputs": [
    {
     "data": {
      "text/html": [
       "<div>\n",
       "<style scoped>\n",
       "    .dataframe tbody tr th:only-of-type {\n",
       "        vertical-align: middle;\n",
       "    }\n",
       "\n",
       "    .dataframe tbody tr th {\n",
       "        vertical-align: top;\n",
       "    }\n",
       "\n",
       "    .dataframe thead th {\n",
       "        text-align: right;\n",
       "    }\n",
       "</style>\n",
       "<table border=\"1\" class=\"dataframe\">\n",
       "  <thead>\n",
       "    <tr style=\"text-align: right;\">\n",
       "      <th></th>\n",
       "      <th>model</th>\n",
       "      <th>acc_train</th>\n",
       "      <th>acc_test</th>\n",
       "      <th>f1_train</th>\n",
       "      <th>f1_test</th>\n",
       "      <th>recall_train</th>\n",
       "      <th>recall_test</th>\n",
       "      <th>precision_train</th>\n",
       "      <th>precision_test</th>\n",
       "    </tr>\n",
       "  </thead>\n",
       "  <tbody>\n",
       "    <tr>\n",
       "      <th>0</th>\n",
       "      <td>randomforest</td>\n",
       "      <td>0.994558</td>\n",
       "      <td>0.761746</td>\n",
       "      <td>0.994556</td>\n",
       "      <td>0.661121</td>\n",
       "      <td>0.994355</td>\n",
       "      <td>0.766631</td>\n",
       "      <td>0.994758</td>\n",
       "      <td>0.58114</td>\n",
       "    </tr>\n",
       "  </tbody>\n",
       "</table>\n",
       "</div>"
      ],
      "text/plain": [
       "          model  acc_train  acc_test  f1_train   f1_test  recall_train  \\\n",
       "0  randomforest   0.994558  0.761746  0.994556  0.661121      0.994355   \n",
       "\n",
       "   recall_test  precision_train  precision_test  \n",
       "0     0.766631         0.994758         0.58114  "
      ]
     },
     "execution_count": 216,
     "metadata": {},
     "output_type": "execute_result"
    }
   ],
   "source": [
    "RandomizedSearch_randomforst_f1_part2"
   ]
  },
  {
   "cell_type": "markdown",
   "metadata": {},
   "source": [
    "# Optimization - Top51 Features"
   ]
  },
  {
   "cell_type": "code",
   "execution_count": 4,
   "metadata": {},
   "outputs": [],
   "source": [
    "# new feature dataframe\n",
    "df_importance = pd.read_csv('data/df_clean_engineered_all.csv')\n",
    "\n",
    "y = df_importance['churn']\n",
    "df_importance = df_importance.drop(['churn','plz_3','abo_registrierung_min','nl_registrierung_min','ort'], axis = 1)\n",
    "\n",
    "df_importance = pd.get_dummies(df_importance, columns = ['kanal', 'objekt_name', 'aboform_name', 'zahlung_rhythmus_name','zahlung_weg_name', 'plz_1', 'plz_2', 'land_iso_code', 'anrede','titel'], drop_first = True)"
   ]
  },
  {
   "cell_type": "code",
   "execution_count": 5,
   "metadata": {},
   "outputs": [],
   "source": [
    "important_features_combined_dropping = ['zahlung_weg_name_Rechnung',\n",
    " 'zahlung_rhythmus_name_halbjährlich',\n",
    " 'rechnungsmonat',\n",
    " 'received_anzahl_6m',\n",
    " 'openedanzahl_6m',\n",
    " 'objekt_name_ZEIT Digital',\n",
    " 'nl_zeitbrief',\n",
    " 'nl_aktivitaet',\n",
    " 'liefer_beginn_evt',\n",
    " 'cnt_umwandlungsstatus2_dkey',\n",
    " 'clickrate_3m',\n",
    " 'anrede_Frau',\n",
    " 'aboform_name_Geschenkabo',\n",
    " 'unsubscribed_anzahl_1m',\n",
    " 'studentenabo',\n",
    " 'received_anzahl_bestandskunden_6m',\n",
    " 'openrate_produktnews_3m',\n",
    " 'opened_anzahl_bestandskunden_6m',\n",
    " 'objekt_name_DIE ZEIT - CHRIST & WELT',\n",
    " 'nl_zeitshop',\n",
    " 'nl_opt_in_sum',\n",
    " 'nl_opened_1m',\n",
    " 'kanal_andere',\n",
    " 'kanal_B2B',\n",
    " 'clicked_anzahl_6m',\n",
    " 'che_reg',\n",
    " 'MONTH_DELTA_nl_min',\n",
    " 'zon_zp_red',\n",
    " 'zahlung_rhythmus_name_vierteljährlich',\n",
    " 'unsubscribed_anzahl_hamburg_1m',\n",
    " 'unsubscribed_anzahl_6m',\n",
    " 'sum_zon',\n",
    " 'sum_reg',\n",
    " 'shop_kauf',\n",
    " 'plz_2_10',\n",
    " 'plz_1_7',\n",
    " 'plz_1_1',\n",
    " 'openrate_zeitbrief_3m',\n",
    " 'openrate_produktnews_1m',\n",
    " 'openrate_3m',\n",
    " 'openrate_1m',\n",
    " 'nl_unsubscribed_6m',\n",
    " 'nl_fdz_organisch',\n",
    " 'metropole',\n",
    " 'cnt_abo_magazin',\n",
    " 'cnt_abo_diezeit_digital',\n",
    " 'cnt_abo',\n",
    " 'clicked_anzahl_bestandskunden_3m',\n",
    " 'aboform_name_Probeabo',\n",
    " 'aboform_name_Negative Option',\n",
    " 'MONTH_DELTA_abo_min']"
   ]
  },
  {
   "cell_type": "code",
   "execution_count": 6,
   "metadata": {},
   "outputs": [],
   "source": [
    "df_importance = df_importance[important_features_combined_dropping]"
   ]
  },
  {
   "cell_type": "code",
   "execution_count": 7,
   "metadata": {},
   "outputs": [
    {
     "data": {
      "text/plain": [
       "(184660, 51)"
      ]
     },
     "execution_count": 7,
     "metadata": {},
     "output_type": "execute_result"
    }
   ],
   "source": [
    "df_importance.shape"
   ]
  },
  {
   "cell_type": "code",
   "execution_count": 8,
   "metadata": {},
   "outputs": [],
   "source": [
    "X = df_importance"
   ]
  },
  {
   "cell_type": "code",
   "execution_count": 339,
   "metadata": {},
   "outputs": [
    {
     "name": "stdout",
     "output_type": "stream",
     "text": [
      "Undersampling\n",
      "KNN\n"
     ]
    },
    {
     "data": {
      "image/png": "[encoded data removed]",
      "text/plain": [
       "<Figure size 432x288 with 2 Axes>"
      ]
     },
     "metadata": {},
     "output_type": "display_data"
    },
    {
     "name": "stdout",
     "output_type": "stream",
     "text": [
      "\n",
      "Confusion matrix on test\n",
      "[[20369 11801]\n",
      " [ 4592  9403]]\n",
      "\n",
      "\n",
      "SVC\n"
     ]
    },
    {
     "data": {
      "image/png": "[encoded data removed]",
      "text/plain": [
       "<Figure size 432x288 with 2 Axes>"
      ]
     },
     "metadata": {},
     "output_type": "display_data"
    },
    {
     "name": "stdout",
     "output_type": "stream",
     "text": [
      "\n",
      "Confusion matrix on test\n",
      "[[21202 10968]\n",
      " [ 4187  9808]]\n",
      "\n",
      "\n",
      "logreg\n"
     ]
    },
    {
     "data": {
      "image/png": "[encoded data removed]",
      "text/plain": [
       "<Figure size 432x288 with 2 Axes>"
      ]
     },
     "metadata": {},
     "output_type": "display_data"
    },
    {
     "name": "stdout",
     "output_type": "stream",
     "text": [
      "\n",
      "Confusion matrix on test\n",
      "[[21317 10853]\n",
      " [ 4225  9770]]\n",
      "\n",
      "\n",
      "decisiontree\n"
     ]
    },
    {
     "data": {
      "image/png": "[encoded data removed]",
      "text/plain": [
       "<Figure size 432x288 with 2 Axes>"
      ]
     },
     "metadata": {},
     "output_type": "display_data"
    },
    {
     "name": "stdout",
     "output_type": "stream",
     "text": [
      "\n",
      "Confusion matrix on test\n",
      "[[23253  8917]\n",
      " [ 4968  9027]]\n",
      "\n",
      "\n",
      "randomforest\n"
     ]
    },
    {
     "data": {
      "image/png": "[encoded data removed]",
      "text/plain": [
       "<Figure size 432x288 with 2 Axes>"
      ]
     },
     "metadata": {},
     "output_type": "display_data"
    },
    {
     "name": "stdout",
     "output_type": "stream",
     "text": [
      "\n",
      "Confusion matrix on test\n",
      "[[25008  7162]\n",
      " [ 3216 10779]]\n",
      "\n",
      "\n",
      "XGBoost\n"
     ]
    },
    {
     "data": {
      "image/png": "[encoded data removed]",
      "text/plain": [
       "<Figure size 432x288 with 2 Axes>"
      ]
     },
     "metadata": {},
     "output_type": "display_data"
    },
    {
     "name": "stdout",
     "output_type": "stream",
     "text": [
      "\n",
      "Confusion matrix on test\n",
      "[[22831  9339]\n",
      " [ 4403  9592]]\n",
      "\n",
      "\n",
      "adaBoost\n"
     ]
    },
    {
     "data": {
      "image/png": "[encoded data removed]",
      "text/plain": [
       "<Figure size 432x288 with 2 Axes>"
      ]
     },
     "metadata": {},
     "output_type": "display_data"
    },
    {
     "name": "stdout",
     "output_type": "stream",
     "text": [
      "\n",
      "Confusion matrix on test\n",
      "[[21540 10630]\n",
      " [ 4223  9772]]\n",
      "\n",
      "\n"
     ]
    }
   ],
   "source": [
    "feature_selection_top100 = pipeline(X,y,balance='under')"
   ]
  },
  {
   "cell_type": "code",
   "execution_count": 341,
   "metadata": {},
   "outputs": [
    {
     "data": {
      "text/html": [
       "<div>\n",
       "<style scoped>\n",
       "    .dataframe tbody tr th:only-of-type {\n",
       "        vertical-align: middle;\n",
       "    }\n",
       "\n",
       "    .dataframe tbody tr th {\n",
       "        vertical-align: top;\n",
       "    }\n",
       "\n",
       "    .dataframe thead th {\n",
       "        text-align: right;\n",
       "    }\n",
       "</style>\n",
       "<table border=\"1\" class=\"dataframe\">\n",
       "  <thead>\n",
       "    <tr style=\"text-align: right;\">\n",
       "      <th></th>\n",
       "      <th>model</th>\n",
       "      <th>acc_train</th>\n",
       "      <th>acc_test</th>\n",
       "      <th>f1_train</th>\n",
       "      <th>f1_test</th>\n",
       "      <th>recall_train</th>\n",
       "      <th>recall_test</th>\n",
       "      <th>precision_train</th>\n",
       "      <th>precision_test</th>\n",
       "    </tr>\n",
       "  </thead>\n",
       "  <tbody>\n",
       "    <tr>\n",
       "      <th>0</th>\n",
       "      <td>KNN</td>\n",
       "      <td>0.644</td>\n",
       "      <td>0.645</td>\n",
       "      <td>0.650</td>\n",
       "      <td>0.534</td>\n",
       "      <td>0.661</td>\n",
       "      <td>0.672</td>\n",
       "      <td>0.639</td>\n",
       "      <td>0.443</td>\n",
       "    </tr>\n",
       "    <tr>\n",
       "      <th>0</th>\n",
       "      <td>SVC</td>\n",
       "      <td>0.679</td>\n",
       "      <td>0.672</td>\n",
       "      <td>0.685</td>\n",
       "      <td>0.564</td>\n",
       "      <td>0.699</td>\n",
       "      <td>0.701</td>\n",
       "      <td>0.672</td>\n",
       "      <td>0.472</td>\n",
       "    </tr>\n",
       "    <tr>\n",
       "      <th>0</th>\n",
       "      <td>logreg</td>\n",
       "      <td>0.679</td>\n",
       "      <td>0.673</td>\n",
       "      <td>0.684</td>\n",
       "      <td>0.564</td>\n",
       "      <td>0.695</td>\n",
       "      <td>0.698</td>\n",
       "      <td>0.673</td>\n",
       "      <td>0.474</td>\n",
       "    </tr>\n",
       "    <tr>\n",
       "      <th>0</th>\n",
       "      <td>decisiontree</td>\n",
       "      <td>0.680</td>\n",
       "      <td>0.699</td>\n",
       "      <td>0.672</td>\n",
       "      <td>0.565</td>\n",
       "      <td>0.655</td>\n",
       "      <td>0.645</td>\n",
       "      <td>0.689</td>\n",
       "      <td>0.503</td>\n",
       "    </tr>\n",
       "    <tr>\n",
       "      <th>0</th>\n",
       "      <td>randomforest</td>\n",
       "      <td>0.758</td>\n",
       "      <td>0.775</td>\n",
       "      <td>0.756</td>\n",
       "      <td>0.675</td>\n",
       "      <td>0.750</td>\n",
       "      <td>0.770</td>\n",
       "      <td>0.763</td>\n",
       "      <td>0.601</td>\n",
       "    </tr>\n",
       "    <tr>\n",
       "      <th>0</th>\n",
       "      <td>XGBoost</td>\n",
       "      <td>0.695</td>\n",
       "      <td>0.702</td>\n",
       "      <td>0.692</td>\n",
       "      <td>0.583</td>\n",
       "      <td>0.685</td>\n",
       "      <td>0.685</td>\n",
       "      <td>0.699</td>\n",
       "      <td>0.507</td>\n",
       "    </tr>\n",
       "    <tr>\n",
       "      <th>0</th>\n",
       "      <td>adaBoost</td>\n",
       "      <td>0.682</td>\n",
       "      <td>0.678</td>\n",
       "      <td>0.686</td>\n",
       "      <td>0.568</td>\n",
       "      <td>0.695</td>\n",
       "      <td>0.698</td>\n",
       "      <td>0.677</td>\n",
       "      <td>0.479</td>\n",
       "    </tr>\n",
       "  </tbody>\n",
       "</table>\n",
       "</div>"
      ],
      "text/plain": [
       "          model  acc_train  acc_test  f1_train  f1_test  recall_train  \\\n",
       "0           KNN      0.644     0.645     0.650    0.534         0.661   \n",
       "0           SVC      0.679     0.672     0.685    0.564         0.699   \n",
       "0        logreg      0.679     0.673     0.684    0.564         0.695   \n",
       "0  decisiontree      0.680     0.699     0.672    0.565         0.655   \n",
       "0  randomforest      0.758     0.775     0.756    0.675         0.750   \n",
       "0       XGBoost      0.695     0.702     0.692    0.583         0.685   \n",
       "0      adaBoost      0.682     0.678     0.686    0.568         0.695   \n",
       "\n",
       "   recall_test  precision_train  precision_test  \n",
       "0        0.672            0.639           0.443  \n",
       "0        0.701            0.672           0.472  \n",
       "0        0.698            0.673           0.474  \n",
       "0        0.645            0.689           0.503  \n",
       "0        0.770            0.763           0.601  \n",
       "0        0.685            0.699           0.507  \n",
       "0        0.698            0.677           0.479  "
      ]
     },
     "execution_count": 341,
     "metadata": {},
     "output_type": "execute_result"
    }
   ],
   "source": [
    "feature_selection_top100.round(3)"
   ]
  },
  {
   "cell_type": "markdown",
   "metadata": {},
   "source": [
    "## Optimization of RandomForest"
   ]
  },
  {
   "cell_type": "markdown",
   "metadata": {},
   "source": [
    "### Optimization of RandomForest - Precision - RandomSearch"
   ]
  },
  {
   "cell_type": "code",
   "execution_count": 9,
   "metadata": {},
   "outputs": [
    {
     "name": "stdout",
     "output_type": "stream",
     "text": [
      "Undersampling\n",
      "randomforest\n",
      "Fitting 3 folds for each of 50 candidates, totalling 150 fits\n"
     ]
    },
    {
     "name": "stderr",
     "output_type": "stream",
     "text": [
      "[Parallel(n_jobs=-1)]: Using backend LokyBackend with 8 concurrent workers.\n",
      "[Parallel(n_jobs=-1)]: Done   2 tasks      | elapsed:  1.0min\n",
      "[Parallel(n_jobs=-1)]: Done  56 tasks      | elapsed: 15.7min\n",
      "[Parallel(n_jobs=-1)]: Done 150 out of 150 | elapsed: 73.5min finished\n"
     ]
    },
    {
     "name": "stdout",
     "output_type": "stream",
     "text": [
      "Best score:\n",
      "0.76\n",
      "Best parameters:\n",
      "{'randomforest__n_estimators': 2000, 'randomforest__min_samples_split': 4, 'randomforest__min_samples_leaf': 2, 'randomforest__max_features': 'sqrt', 'randomforest__max_depth': None, 'randomforest__criterion': 'entropy', 'randomforest__bootstrap': False}\n",
      "\n",
      "Confusion matrix on test\n",
      "[[25224  6946]\n",
      " [ 3259 10736]]\n",
      "\n",
      "\n"
     ]
    }
   ],
   "source": [
    "feature_selection_top100_precision_randomsearch = pipeline_optimization(X,y,balance='under')"
   ]
  },
  {
   "cell_type": "markdown",
   "metadata": {},
   "source": [
    "Best score:\n",
    "0.76\n",
    "Best parameters:\n",
    "\n",
    "{'randomforest__n_estimators': 2000, 'randomforest__min_samples_split': 4, 'randomforest__min_samples_leaf': 2, 'randomforest__max_features': 'sqrt', 'randomforest__max_depth': None, 'randomforest__criterion': 'entropy', 'randomforest__bootstrap': False}\n",
    "\n",
    "Confusion matrix on test\n",
    "\n",
    "[[25224  6946]\n",
    "\n",
    " [ 3259 10736]]"
   ]
  },
  {
   "cell_type": "code",
   "execution_count": 10,
   "metadata": {},
   "outputs": [
    {
     "data": {
      "text/html": [
       "<div>\n",
       "<style scoped>\n",
       "    .dataframe tbody tr th:only-of-type {\n",
       "        vertical-align: middle;\n",
       "    }\n",
       "\n",
       "    .dataframe tbody tr th {\n",
       "        vertical-align: top;\n",
       "    }\n",
       "\n",
       "    .dataframe thead th {\n",
       "        text-align: right;\n",
       "    }\n",
       "</style>\n",
       "<table border=\"1\" class=\"dataframe\">\n",
       "  <thead>\n",
       "    <tr style=\"text-align: right;\">\n",
       "      <th></th>\n",
       "      <th>model</th>\n",
       "      <th>acc_train</th>\n",
       "      <th>acc_test</th>\n",
       "      <th>f1_train</th>\n",
       "      <th>f1_test</th>\n",
       "      <th>recall_train</th>\n",
       "      <th>recall_test</th>\n",
       "      <th>precision_train</th>\n",
       "      <th>precision_test</th>\n",
       "    </tr>\n",
       "  </thead>\n",
       "  <tbody>\n",
       "    <tr>\n",
       "      <th>0</th>\n",
       "      <td>randomforest</td>\n",
       "      <td>0.994629</td>\n",
       "      <td>0.778945</td>\n",
       "      <td>0.994624</td>\n",
       "      <td>0.677842</td>\n",
       "      <td>0.993641</td>\n",
       "      <td>0.767131</td>\n",
       "      <td>0.995609</td>\n",
       "      <td>0.607171</td>\n",
       "    </tr>\n",
       "  </tbody>\n",
       "</table>\n",
       "</div>"
      ],
      "text/plain": [
       "          model  acc_train  acc_test  f1_train   f1_test  recall_train  \\\n",
       "0  randomforest   0.994629  0.778945  0.994624  0.677842      0.993641   \n",
       "\n",
       "   recall_test  precision_train  precision_test  \n",
       "0     0.767131         0.995609        0.607171  "
      ]
     },
     "execution_count": 10,
     "metadata": {},
     "output_type": "execute_result"
    }
   ],
   "source": [
    "feature_selection_top100_precision_randomsearch"
   ]
  },
  {
   "cell_type": "markdown",
   "metadata": {},
   "source": [
    "### Optimization of RandomForest - Precision - GridSearch"
   ]
  },
  {
   "cell_type": "code",
   "execution_count": 18,
   "metadata": {},
   "outputs": [],
   "source": [
    "def pipeline_optimization_Gridsearch(X,y,balance=None):\n",
    "    \n",
    "    # devide features\n",
    "    categoric_features = list(X.columns[X.dtypes==object])\n",
    "\n",
    "    numeric_features = list(X.columns[X.dtypes != object])\n",
    "\n",
    "    # split train and test set\n",
    "    X_train, X_test, y_train, y_test = train_test_split(X, y, random_state=random_state,stratify=y)\n",
    "    \n",
    "    if balance == 'over':\n",
    "        # define oversampling strategy\n",
    "        print('Oversampling')\n",
    "        oversample = RandomOverSampler(sampling_strategy='minority')\n",
    "        X_train, y_train = oversample.fit_resample(X_train, y_train)\n",
    "\n",
    "    if balance == 'under':\n",
    "        print('Undersampling')\n",
    "        # define undersample strategy\n",
    "        undersample = RandomUnderSampler(sampling_strategy='majority')\n",
    "        X_train, y_train = undersample.fit_resample(X_train, y_train)\n",
    "        \n",
    "    # Hyperparameter grid\n",
    "    param_randomforest = {\n",
    "    'randomforest__criterion': ['entropy'], #np.linspace(10, 500,50).astype(int),\n",
    "    'randomforest__n_estimators': [1800, 2000, 2200, 2500], #np.linspace(10, 500,50).astype(int),\n",
    "    'randomforest__max_depth': [None],\n",
    "    'randomforest__max_features': ['sqrt'],\n",
    "    'randomforest__bootstrap': [False],\n",
    "    'randomforest__min_samples_leaf': [2, 3, 4],\n",
    "    'randomforest__min_samples_split': [3, 4, 5],\n",
    "    }\n",
    "    \n",
    "    models={\n",
    "        #'KNN' : KNeighborsClassifier(n_neighbors=5, metric='euclidean',n_jobs=-1),\n",
    "        #'SVC' : LinearSVC(),\n",
    "        #'logreg': LogisticRegression(random_state=random_state,n_jobs=-1), \n",
    "        #'decisiontree': DecisionTreeClassifier(random_state=random_state,max_depth=10),\n",
    "        'randomforest': RandomForestClassifier(random_state=random_state, n_jobs=-1)\n",
    "        #'XGBoost' : XGBClassifier(random_state=random_state, n_jobs=-1),\n",
    "        #'adaBoost' : AdaBoostClassifier(random_state=random_state)\n",
    "        }  \n",
    "    \n",
    "    # create preprocessors\n",
    "    numeric_transformer = Pipeline(steps=[\n",
    "        ('imputer_num', SimpleImputer(strategy='median')),\n",
    "        ('scaler', MinMaxScaler())\n",
    "        #('scaler', StandardScaler())\n",
    "    ])\n",
    "\n",
    "    categorical_transformer = Pipeline(steps=[\n",
    "            ('imputer_cat', SimpleImputer(strategy='constant', fill_value='missing')),\n",
    "            ('onehot', OneHotEncoder(handle_unknown='ignore'))\n",
    "    ])\n",
    "\n",
    "    preprocessor = ColumnTransformer(\n",
    "        transformers=[\n",
    "            ('num', numeric_transformer, numeric_features),\n",
    "            ('cat', categorical_transformer, categoric_features)\n",
    "        ])\n",
    "\n",
    "    model_results = pd.DataFrame(columns=['model','acc_train','acc_test','f1_train','f1_test','recall_train','recall_test','precision_train','precision_test'])\n",
    "    \n",
    "    # process pipeline for every model\n",
    "    for model in models.items():\n",
    "        \n",
    "        print(model[0])\n",
    "        pipe = Pipeline(steps=[('preprocessor', preprocessor), \n",
    "                               (model[0], model[1])\n",
    "                               ])\n",
    "\n",
    "        grid_randomforest = GridSearchCV(pipe, param_randomforest, cv=3, scoring='precision',\n",
    "                           verbose=5, n_jobs=-1)\n",
    "        \n",
    "        # fit model\n",
    "        grid_randomforest.fit(X_train, y_train)\n",
    "        #pipe.fit(X_train, y_train)\n",
    "        \n",
    "        # Show best parameters\n",
    "        print('Best score:\\n{:.2f}'.format(grid_randomforest.best_score_))\n",
    "        print(\"Best parameters:\\n{}\".format(grid_randomforest.best_params_))\n",
    "        \n",
    "        # Save best model as best_model\n",
    "        best_model = grid_randomforest.best_estimator_\n",
    "        \n",
    "        #pipe_best = Pipeline(steps=[('preprocessor', preprocessor), \n",
    "        #                       (model[0], best_model)\n",
    "        #                       ])\n",
    "        \n",
    "        # fit best pipe\n",
    "        #pipe_best.fit(X_train, y_train)\n",
    "        #predict results\n",
    "        #y_train_pred = cross_val_predict(grid_randomforest,X_train,y_train,cv=5)\n",
    "        y_train_pred = grid_randomforest.predict(X_train)\n",
    "        #y_train_pred = cross_val_predict(pipe_best, X_train, y_train, cv=5)\n",
    "\n",
    "        y_test_pred = grid_randomforest.predict(X_test)\n",
    "        \n",
    "        results = train_predict(model[0],y_train, y_test, y_train_pred, y_test_pred)\n",
    "        \n",
    "        model_results = pd.concat([model_results, pd.DataFrame(results,index=[0])])\n",
    "        # print results\n",
    "        #print(\"\\nResults on training data: \")\n",
    "        #print(classification_report(y_train, y_train_pred))\n",
    "        #print(\"\\nResults on test data:\")\n",
    "        #print(classification_report(y_test, y_test_pred))\n",
    "        print(\"\\nConfusion matrix on test\")\n",
    "        print(confusion_matrix(y_test, y_test_pred))\n",
    "        print(\"\\n\")\n",
    "    return model_results"
   ]
  },
  {
   "cell_type": "code",
   "execution_count": 19,
   "metadata": {},
   "outputs": [
    {
     "name": "stdout",
     "output_type": "stream",
     "text": [
      "Undersampling\n",
      "randomforest\n",
      "Fitting 3 folds for each of 36 candidates, totalling 108 fits\n"
     ]
    },
    {
     "name": "stderr",
     "output_type": "stream",
     "text": [
      "[Parallel(n_jobs=-1)]: Using backend LokyBackend with 8 concurrent workers.\n",
      "[Parallel(n_jobs=-1)]: Done   2 tasks      | elapsed:  8.3min\n",
      "[Parallel(n_jobs=-1)]: Done  56 tasks      | elapsed: 74.5min\n",
      "[Parallel(n_jobs=-1)]: Done 108 out of 108 | elapsed: 129.8min finished\n"
     ]
    },
    {
     "name": "stdout",
     "output_type": "stream",
     "text": [
      "Best score:\n",
      "0.76\n",
      "Best parameters:\n",
      "{'randomforest__bootstrap': False, 'randomforest__criterion': 'entropy', 'randomforest__max_depth': None, 'randomforest__max_features': 'sqrt', 'randomforest__min_samples_leaf': 2, 'randomforest__min_samples_split': 5, 'randomforest__n_estimators': 2000}\n",
      "\n",
      "Confusion matrix on test\n",
      "[[25248  6922]\n",
      " [ 3234 10761]]\n",
      "\n",
      "\n"
     ]
    }
   ],
   "source": [
    "feature_selection_top100_precision_gridsearch = pipeline_optimization_Gridsearch(X,y,balance='under')"
   ]
  },
  {
   "cell_type": "code",
   "execution_count": 20,
   "metadata": {},
   "outputs": [
    {
     "data": {
      "text/html": [
       "<div>\n",
       "<style scoped>\n",
       "    .dataframe tbody tr th:only-of-type {\n",
       "        vertical-align: middle;\n",
       "    }\n",
       "\n",
       "    .dataframe tbody tr th {\n",
       "        vertical-align: top;\n",
       "    }\n",
       "\n",
       "    .dataframe thead th {\n",
       "        text-align: right;\n",
       "    }\n",
       "</style>\n",
       "<table border=\"1\" class=\"dataframe\">\n",
       "  <thead>\n",
       "    <tr style=\"text-align: right;\">\n",
       "      <th></th>\n",
       "      <th>model</th>\n",
       "      <th>acc_train</th>\n",
       "      <th>acc_test</th>\n",
       "      <th>f1_train</th>\n",
       "      <th>f1_test</th>\n",
       "      <th>recall_train</th>\n",
       "      <th>recall_test</th>\n",
       "      <th>precision_train</th>\n",
       "      <th>precision_test</th>\n",
       "    </tr>\n",
       "  </thead>\n",
       "  <tbody>\n",
       "    <tr>\n",
       "      <th>0</th>\n",
       "      <td>randomforest</td>\n",
       "      <td>0.994355</td>\n",
       "      <td>0.780006</td>\n",
       "      <td>0.994351</td>\n",
       "      <td>0.679399</td>\n",
       "      <td>0.993688</td>\n",
       "      <td>0.768917</td>\n",
       "      <td>0.995015</td>\n",
       "      <td>0.608551</td>\n",
       "    </tr>\n",
       "  </tbody>\n",
       "</table>\n",
       "</div>"
      ],
      "text/plain": [
       "          model  acc_train  acc_test  f1_train   f1_test  recall_train  \\\n",
       "0  randomforest   0.994355  0.780006  0.994351  0.679399      0.993688   \n",
       "\n",
       "   recall_test  precision_train  precision_test  \n",
       "0     0.768917         0.995015        0.608551  "
      ]
     },
     "execution_count": 20,
     "metadata": {},
     "output_type": "execute_result"
    }
   ],
   "source": [
    "feature_selection_top100_precision_gridsearch"
   ]
  }
 ],
 "metadata": {
  "kernelspec": {
   "display_name": "Python [conda env:nf] *",
   "language": "python",
   "name": "conda-env-nf-py"
  },
  "language_info": {
   "codemirror_mode": {
    "name": "ipython",
    "version": 3
   },
   "file_extension": ".py",
   "mimetype": "text/x-python",
   "name": "python",
   "nbconvert_exporter": "python",
   "pygments_lexer": "ipython3",
   "version": "3.6.10"
  },
  "toc-autonumbering": true
 },
 "nbformat": 4,
 "nbformat_minor": 4
}
