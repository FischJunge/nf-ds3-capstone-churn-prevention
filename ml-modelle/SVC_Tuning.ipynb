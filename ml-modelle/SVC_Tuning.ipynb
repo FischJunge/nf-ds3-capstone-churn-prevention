{
 "cells": [
  {
   "cell_type": "markdown",
   "metadata": {},
   "source": [
    "# Optimize XGBoost"
   ]
  },
  {
   "cell_type": "code",
   "execution_count": 1,
   "metadata": {},
   "outputs": [],
   "source": [
    "# data analysis and wrangling\n",
    "import pandas as pd\n",
    "import numpy as np\n",
    "import math\n",
    "\n",
    "# own modules\n",
    "import eda_methods as eda\n",
    "\n",
    "# visualization\n",
    "import seaborn as sns\n",
    "sns.set(style=\"white\")  \n",
    "import matplotlib\n",
    "import matplotlib.pyplot as plt\n",
    "%matplotlib inline\n",
    "plt.style.use('ggplot')\n",
    "from pandas.plotting import scatter_matrix\n",
    "\n",
    "# warnings handler\n",
    "import warnings\n",
    "warnings.filterwarnings(\"ignore\")\n",
    "\n",
    "# Machine Learning Libraries\n",
    "from sklearn.metrics import confusion_matrix, classification_report\n",
    "from sklearn.metrics import fbeta_score, accuracy_score, f1_score, recall_score, precision_score\n",
    "from sklearn.linear_model import LogisticRegression\n",
    "from sklearn.neighbors import KNeighborsClassifier\n",
    "from sklearn.svm import SVC\n",
    "from sklearn.tree import DecisionTreeClassifier\n",
    "from sklearn.ensemble import RandomForestClassifier\n",
    "from xgboost import XGBClassifier\n",
    "from sklearn.ensemble import AdaBoostClassifier\n",
    "from sklearn.model_selection import GridSearchCV\n",
    "from sklearn.model_selection import RandomizedSearchCV\n",
    "from sklearn.metrics import make_scorer \n",
    "from sklearn.model_selection import KFold\n",
    "from sklearn.metrics import roc_curve\n",
    "from sklearn.metrics import roc_auc_score\n",
    "\n",
    "#Pipeline\n",
    "from sklearn.model_selection import train_test_split, cross_val_predict\n",
    "from sklearn.pipeline import Pipeline\n",
    "from sklearn.preprocessing import StandardScaler, OneHotEncoder, MinMaxScaler\n",
    "from sklearn.compose import ColumnTransformer\n",
    "from sklearn.impute import SimpleImputer\n",
    "from imblearn.under_sampling import RandomUnderSampler\n",
    "\n",
    "random_state=101"
   ]
  },
  {
   "cell_type": "markdown",
   "metadata": {},
   "source": [
    "## Loading data & set up"
   ]
  },
  {
   "cell_type": "code",
   "execution_count": 2,
   "metadata": {},
   "outputs": [],
   "source": [
    "# new feature dataframe\n",
    "df_importance = pd.read_csv('data/df_clean_engineered_all.csv')\n",
    "\n",
    "# split label\n",
    "y = df_importance['churn']\n",
    "\n",
    "# drop obvious drops\n",
    "df_importance = df_importance.drop(['churn','plz_3','abo_registrierung_min','nl_registrierung_min','ort'], axis = 1)\n",
    "\n",
    "# get dummies\n",
    "df_importance = pd.get_dummies(df_importance, columns = ['kanal', 'objekt_name', 'aboform_name', 'zahlung_rhythmus_name','zahlung_weg_name', 'plz_1', 'plz_2', 'land_iso_code', 'anrede','titel'], drop_first = True)"
   ]
  },
  {
   "cell_type": "code",
   "execution_count": 3,
   "metadata": {},
   "outputs": [
    {
     "data": {
      "text/plain": [
       "51"
      ]
     },
     "execution_count": 3,
     "metadata": {},
     "output_type": "execute_result"
    }
   ],
   "source": [
    "# defined list of important features\n",
    "important_features_combined_dropping = ['zahlung_weg_name_Rechnung',\n",
    "                                        'zahlung_rhythmus_name_halbjährlich',\n",
    "                                        'rechnungsmonat',\n",
    "                                        'received_anzahl_6m',\n",
    "                                        'openedanzahl_6m',\n",
    "                                        'objekt_name_ZEIT Digital',\n",
    "                                        'nl_zeitbrief',\n",
    "                                        'nl_aktivitaet',\n",
    "                                        'liefer_beginn_evt',\n",
    "                                        'cnt_umwandlungsstatus2_dkey',\n",
    "                                        'clickrate_3m',\n",
    "                                        'anrede_Frau',\n",
    "                                        'aboform_name_Geschenkabo',\n",
    "                                        'unsubscribed_anzahl_1m',\n",
    "                                        'studentenabo',\n",
    "                                        'received_anzahl_bestandskunden_6m',\n",
    "                                        'openrate_produktnews_3m',\n",
    "                                        'opened_anzahl_bestandskunden_6m',\n",
    "                                        'objekt_name_DIE ZEIT - CHRIST & WELT',\n",
    "                                        'nl_zeitshop',\n",
    "                                        'nl_opt_in_sum',\n",
    "                                        'nl_opened_1m',\n",
    "                                        'kanal_andere',\n",
    "                                        'kanal_B2B',\n",
    "                                        'clicked_anzahl_6m',\n",
    "                                        'che_reg',\n",
    "                                        'MONTH_DELTA_nl_min',\n",
    "                                        'zon_zp_red',\n",
    "                                        'zahlung_rhythmus_name_vierteljährlich',\n",
    "                                        'unsubscribed_anzahl_hamburg_1m',\n",
    "                                        'unsubscribed_anzahl_6m',\n",
    "                                        'sum_zon',\n",
    "                                        'sum_reg',\n",
    "                                        'shop_kauf',\n",
    "                                        'plz_2_10',\n",
    "                                        'plz_1_7',\n",
    "                                        'plz_1_1',\n",
    "                                        'openrate_zeitbrief_3m',\n",
    "                                        'openrate_produktnews_1m',\n",
    "                                        'openrate_3m',\n",
    "                                        'openrate_1m',\n",
    "                                        'nl_unsubscribed_6m',\n",
    "                                        'nl_fdz_organisch',\n",
    "                                        'metropole',\n",
    "                                        'cnt_abo_magazin',\n",
    "                                        'cnt_abo_diezeit_digital',\n",
    "                                        'cnt_abo',\n",
    "                                        'clicked_anzahl_bestandskunden_3m',\n",
    "                                        'aboform_name_Probeabo',\n",
    "                                        'aboform_name_Negative Option',\n",
    "                                        'MONTH_DELTA_abo_min']\n",
    "\n",
    "len(important_features_combined_dropping)"
   ]
  },
  {
   "cell_type": "code",
   "execution_count": 4,
   "metadata": {},
   "outputs": [
    {
     "name": "stdout",
     "output_type": "stream",
     "text": [
      "(184660, 307)\n",
      "(184660, 51)\n"
     ]
    }
   ],
   "source": [
    "# choose important features\n",
    "print(df_importance.shape)\n",
    "X = df_importance[important_features_combined_dropping]\n",
    "print(X.shape)\n"
   ]
  },
  {
   "cell_type": "code",
   "execution_count": 5,
   "metadata": {},
   "outputs": [],
   "source": [
    "def train_predict(modelname, y_train, y_test, predictions_train, predictions_test):\n",
    "    '''\n",
    "    inputs:\n",
    "       - learner: the learning algorithm to be trained and predicted on\n",
    "       -\n",
    "       - y_train: income training set\n",
    "       -\n",
    "       - y_test: income testing set\n",
    "    '''\n",
    "    results = {}\n",
    "    # model name\n",
    "    results['model'] = modelname\n",
    "    # accuracy\n",
    "    results['acc_train'] = accuracy_score(y_train,predictions_train)\n",
    "    results['acc_test'] = accuracy_score(y_test,predictions_test)\n",
    "    # F-score\n",
    "    #results[‘f_train’] = fbeta_score(y_train,predictions_train,0.5)\n",
    "    #results[‘f_test’] = fbeta_score(y_test,predictions_test,0.5)\n",
    "    # F1-score\n",
    "    results['f1_train'] = f1_score(y_train,predictions_train)\n",
    "    results['f1_test'] = f1_score(y_test,predictions_test)\n",
    "    # Recall\n",
    "    results['recall_train'] = recall_score(y_train,predictions_train)\n",
    "    results['recall_test'] = recall_score(y_test,predictions_test)\n",
    "    # Precision\n",
    "    results['precision_train'] = precision_score(y_train,predictions_train)\n",
    "    results['precision_test'] = precision_score(y_test,predictions_test)\n",
    "    # Return the results\n",
    "    return results"
   ]
  },
  {
   "cell_type": "markdown",
   "metadata": {},
   "source": [
    "## RandomSearchCV"
   ]
  },
  {
   "cell_type": "code",
   "execution_count": 8,
   "metadata": {},
   "outputs": [],
   "source": [
    "def pipeline_optimization(X,y,balance=None):\n",
    "    \n",
    "    # devide features\n",
    "    categoric_features = list(X.columns[X.dtypes==object])\n",
    "    numeric_features = list(X.columns[X.dtypes != object])\n",
    "\n",
    "    # split train and test set\n",
    "    X_train, X_test, y_train, y_test = train_test_split(X, y, random_state=random_state,stratify=y)\n",
    "    \n",
    "    if balance == 'over':\n",
    "        # define oversampling strategy\n",
    "        print('Oversampling')\n",
    "        oversample = RandomOverSampler(sampling_strategy='minority')\n",
    "        X_train, y_train = oversample.fit_resample(X_train, y_train)\n",
    "\n",
    "    if balance == 'under':\n",
    "        print('Undersampling')\n",
    "        # define undersample strategy\n",
    "        undersample = RandomUnderSampler(sampling_strategy='majority')\n",
    "        X_train, y_train = undersample.fit_resample(X_train, y_train)\n",
    "        \n",
    "    # Hyperparameter grid\n",
    "    param_SVC = {\n",
    "        'SVC__C': [1, 10, 100, 1000],\n",
    "        'SVC__kernel': ['linear', 'rbf', 'poly'],\n",
    "        'SVC__gamma': [1/(X.shape[1]), 1, 0.1, 0.01, 0.001, 0.0001]\n",
    "    }\n",
    "        \n",
    "    models={\n",
    "        'SVC' : SVC(random_state=random_state)\n",
    "        }  \n",
    "    \n",
    "    # create preprocessors\n",
    "    numeric_transformer = Pipeline(steps=[\n",
    "            ('imputer_num', SimpleImputer(strategy='median')),\n",
    "            ('scaler', MinMaxScaler())\n",
    "    ])\n",
    "\n",
    "    categorical_transformer = Pipeline(steps=[\n",
    "            ('imputer_cat', SimpleImputer(strategy='constant', fill_value='missing')),\n",
    "            ('onehot', OneHotEncoder(handle_unknown='ignore'))\n",
    "    ])\n",
    "\n",
    "    preprocessor = ColumnTransformer(\n",
    "        transformers=[\n",
    "            ('num', numeric_transformer, numeric_features),\n",
    "            ('cat', categorical_transformer, categoric_features)\n",
    "    ])\n",
    "\n",
    "    model_results = pd.DataFrame(columns=['model','acc_train','acc_test','f1_train','f1_test',\n",
    "                                          'recall_train','recall_test','precision_train','precision_test'])\n",
    "    \n",
    "    # process pipeline for every model\n",
    "    for model in models.items():\n",
    "        \n",
    "        print(model[0])\n",
    "        pipe = Pipeline(steps=[('preprocessor', preprocessor), \n",
    "                               (model[0], model[1])\n",
    "                               ])\n",
    "        \n",
    "        grid_SVC = RandomizedSearchCV(pipe, param_SVC, cv=3, scoring='precision', \n",
    "                           verbose=5, n_jobs=-1)\n",
    "        # fit model\n",
    "        grid_SVC.fit(X_train, y_train)\n",
    "        \n",
    "        # Show best parameters\n",
    "        print('Best score:{:.2f}'.format(grid_SVC.best_score_))\n",
    "        print('Best parameters:{}'.format(grid_SVC.best_params_))\n",
    "        \n",
    "        # Save best model as best_model\n",
    "        best_model = grid_SVC.best_estimator_\n",
    "        y_train_pred = grid_SVC.predict(X_train)\n",
    "        y_test_pred = grid_SVC.predict(X_test)\n",
    "        \n",
    "        results = train_predict(model[0],y_train, y_test, y_train_pred, y_test_pred)        \n",
    "        model_results = pd.concat([model_results, pd.DataFrame(results,index=[0])])\n",
    "\n",
    "        print(\"\\nConfusion matrix on test\")\n",
    "        print(confusion_matrix(y_test, y_test_pred))\n",
    "        print(\"\\n\")\n",
    "        \n",
    "    return model_results"
   ]
  },
  {
   "cell_type": "code",
   "execution_count": 9,
   "metadata": {},
   "outputs": [
    {
     "name": "stdout",
     "output_type": "stream",
     "text": [
      "Undersampling\n",
      "SVC\n",
      "Fitting 3 folds for each of 10 candidates, totalling 30 fits\n"
     ]
    },
    {
     "name": "stderr",
     "output_type": "stream",
     "text": [
      "[Parallel(n_jobs=-1)]: Using backend LokyBackend with 8 concurrent workers.\n",
      "[Parallel(n_jobs=-1)]: Done   2 tasks      | elapsed: 12.0min\n",
      "[Parallel(n_jobs=-1)]: Done  22 out of  30 | elapsed: 162.1min remaining: 59.0min\n",
      "[Parallel(n_jobs=-1)]: Done  30 out of  30 | elapsed: 919.1min finished\n"
     ]
    },
    {
     "name": "stdout",
     "output_type": "stream",
     "text": [
      "Best score:0.77\n",
      "Best parameters:{'SVC__kernel': 'poly', 'SVC__gamma': 0.0001, 'SVC__C': 10}\n",
      "\n",
      "Confusion matrix on test\n",
      "[[30937  1233]\n",
      " [12150  1845]]\n",
      "\n",
      "\n"
     ]
    },
    {
     "data": {
      "text/html": [
       "<div>\n",
       "<style scoped>\n",
       "    .dataframe tbody tr th:only-of-type {\n",
       "        vertical-align: middle;\n",
       "    }\n",
       "\n",
       "    .dataframe tbody tr th {\n",
       "        vertical-align: top;\n",
       "    }\n",
       "\n",
       "    .dataframe thead th {\n",
       "        text-align: right;\n",
       "    }\n",
       "</style>\n",
       "<table border=\"1\" class=\"dataframe\">\n",
       "  <thead>\n",
       "    <tr style=\"text-align: right;\">\n",
       "      <th></th>\n",
       "      <th>model</th>\n",
       "      <th>acc_train</th>\n",
       "      <th>acc_test</th>\n",
       "      <th>f1_train</th>\n",
       "      <th>f1_test</th>\n",
       "      <th>recall_train</th>\n",
       "      <th>recall_test</th>\n",
       "      <th>precision_train</th>\n",
       "      <th>precision_test</th>\n",
       "    </tr>\n",
       "  </thead>\n",
       "  <tbody>\n",
       "    <tr>\n",
       "      <th>0</th>\n",
       "      <td>SVC</td>\n",
       "      <td>0.54691</td>\n",
       "      <td>0.710105</td>\n",
       "      <td>0.224975</td>\n",
       "      <td>0.216131</td>\n",
       "      <td>0.131523</td>\n",
       "      <td>0.131833</td>\n",
       "      <td>0.777199</td>\n",
       "      <td>0.599415</td>\n",
       "    </tr>\n",
       "  </tbody>\n",
       "</table>\n",
       "</div>"
      ],
      "text/plain": [
       "  model  acc_train  acc_test  f1_train   f1_test  recall_train  recall_test  \\\n",
       "0   SVC    0.54691  0.710105  0.224975  0.216131      0.131523     0.131833   \n",
       "\n",
       "   precision_train  precision_test  \n",
       "0         0.777199        0.599415  "
      ]
     },
     "execution_count": 9,
     "metadata": {},
     "output_type": "execute_result"
    }
   ],
   "source": [
    "RandomizedSearch_SVC = pipeline_optimization(X,y,balance='under')\n",
    "RandomizedSearch_SVC"
   ]
  }
 ],
 "metadata": {
  "kernelspec": {
   "display_name": "Python [conda env:nf] *",
   "language": "python",
   "name": "conda-env-nf-py"
  },
  "language_info": {
   "codemirror_mode": {
    "name": "ipython",
    "version": 3
   },
   "file_extension": ".py",
   "mimetype": "text/x-python",
   "name": "python",
   "nbconvert_exporter": "python",
   "pygments_lexer": "ipython3",
   "version": "3.6.10"
  }
 },
 "nbformat": 4,
 "nbformat_minor": 4
}
